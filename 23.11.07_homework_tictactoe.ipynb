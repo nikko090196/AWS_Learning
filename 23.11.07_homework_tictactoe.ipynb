{
 "cells": [
  {
   "cell_type": "code",
   "execution_count": 39,
   "metadata": {},
   "outputs": [
    {
     "name": "stdout",
     "output_type": "stream",
     "text": [
      "n = 4\n",
      "        |         |         \n",
      "\n",
      "        |         |         \n",
      "\n",
      "        |         |         \n",
      "\n",
      "        |         |         \n",
      "\n",
      "- - - - - - - - - - - - - - \n",
      "\n",
      "        |         |         \n",
      "\n",
      "        |         |         \n",
      "\n",
      "        |         |         \n",
      "\n",
      "        |         |         \n",
      "\n",
      "- - - - - - - - - - - - - - \n",
      "\n",
      "        |         |         \n",
      "\n",
      "        |         |         \n",
      "\n",
      "        |         |         \n",
      "\n",
      "        |         |         \n",
      "\n"
     ]
    },
    {
     "ename": "NameError",
     "evalue": "name 'x' is not defined",
     "output_type": "error",
     "traceback": [
      "\u001b[0;31m---------------------------------------------------------------------------\u001b[0m",
      "\u001b[0;31mNameError\u001b[0m                                 Traceback (most recent call last)",
      "\u001b[1;32m/Users/nikkopham/Desktop/AWSRestart/repository_learning/23.11.07_homework_tictactoe.ipynb Cell 1\u001b[0m line \u001b[0;36m2\n\u001b[1;32m     <a href='vscode-notebook-cell:/Users/nikkopham/Desktop/AWSRestart/repository_learning/23.11.07_homework_tictactoe.ipynb#X11sZmlsZQ%3D%3D?line=23'>24</a>\u001b[0m             \u001b[39mprint\u001b[39m(\u001b[39m\"\u001b[39m\u001b[39m \u001b[39m\u001b[39m\"\u001b[39m, end\u001b[39m=\u001b[39m\u001b[39m\"\u001b[39m\u001b[39m \u001b[39m\u001b[39m\"\u001b[39m)\n\u001b[1;32m     <a href='vscode-notebook-cell:/Users/nikkopham/Desktop/AWSRestart/repository_learning/23.11.07_homework_tictactoe.ipynb#X11sZmlsZQ%3D%3D?line=24'>25</a>\u001b[0m     \u001b[39mprint\u001b[39m(\u001b[39m\"\u001b[39m\u001b[39m\\n\u001b[39;00m\u001b[39m\"\u001b[39m)\n\u001b[0;32m---> <a href='vscode-notebook-cell:/Users/nikkopham/Desktop/AWSRestart/repository_learning/23.11.07_homework_tictactoe.ipynb#X11sZmlsZQ%3D%3D?line=25'>26</a>\u001b[0m \u001b[39mprint\u001b[39m(x)\n",
      "\u001b[0;31mNameError\u001b[0m: name 'x' is not defined"
     ]
    }
   ],
   "source": [
    "#Pick the value of n:\n",
    "while True:\n",
    "    number = input(\"Enter an integer which is larger than 0: \")\n",
    "    try:\n",
    "        number = int(number)\n",
    "        if number > 0:\n",
    "            n = number\n",
    "            print(\"n =\", n)\n",
    "            break \n",
    "        else:\n",
    "            print(\"The number needs to be larger than 0\")\n",
    "    except ValueError:\n",
    "        print(\"Your answer is not a valid integer\")\n",
    "\n",
    "#Drawing the Tic-tac-toe: \n",
    "d = 3*n + 2\n",
    "for row in range(d):\n",
    "    for col in range(d):\n",
    "        if (row==n or row == 2*n+1) :\n",
    "            print(\"-\", end=\" \")\n",
    "        elif (col==n or col == 2*n+1):\n",
    "            print(\"|\", end=\" \")\n",
    "        else:\n",
    "            print(\" \", end=\" \")\n",
    "    print(\"\\n\")\n",
    "print(x)\n",
    "\n"
   ]
  },
  {
   "cell_type": "code",
   "execution_count": 32,
   "metadata": {},
   "outputs": [
    {
     "ename": "NameError",
     "evalue": "name 'TRUE' is not defined",
     "output_type": "error",
     "traceback": [
      "\u001b[0;31m---------------------------------------------------------------------------\u001b[0m",
      "\u001b[0;31mNameError\u001b[0m                                 Traceback (most recent call last)",
      "\u001b[1;32m/Users/nikkopham/Desktop/AWSRestart/repository_learning/23.11.07_homework_tictactoe.ipynb Cell 2\u001b[0m line \u001b[0;36m1\n\u001b[0;32m----> <a href='vscode-notebook-cell:/Users/nikkopham/Desktop/AWSRestart/repository_learning/23.11.07_homework_tictactoe.ipynb#X12sZmlsZQ%3D%3D?line=0'>1</a>\u001b[0m \u001b[39mwhile\u001b[39;00m TRUE:\n\u001b[1;32m      <a href='vscode-notebook-cell:/Users/nikkopham/Desktop/AWSRestart/repository_learning/23.11.07_homework_tictactoe.ipynb#X12sZmlsZQ%3D%3D?line=1'>2</a>\u001b[0m     \u001b[39mtry\u001b[39;00m:\n\u001b[1;32m      <a href='vscode-notebook-cell:/Users/nikkopham/Desktop/AWSRestart/repository_learning/23.11.07_homework_tictactoe.ipynb#X12sZmlsZQ%3D%3D?line=2'>3</a>\u001b[0m         number \u001b[39m=\u001b[39m \u001b[39mint\u001b[39m(\u001b[39minput\u001b[39m(\u001b[39m\"\u001b[39m\u001b[39mEnter an integer: \u001b[39m\u001b[39m\"\u001b[39m))\n",
      "\u001b[0;31mNameError\u001b[0m: name 'TRUE' is not defined"
     ]
    }
   ],
   "source": []
  },
  {
   "cell_type": "code",
   "execution_count": null,
   "metadata": {},
   "outputs": [],
   "source": []
  },
  {
   "cell_type": "code",
   "execution_count": null,
   "metadata": {},
   "outputs": [],
   "source": []
  }
 ],
 "metadata": {
  "kernelspec": {
   "display_name": "Python 3",
   "language": "python",
   "name": "python3"
  },
  "language_info": {
   "codemirror_mode": {
    "name": "ipython",
    "version": 3
   },
   "file_extension": ".py",
   "mimetype": "text/x-python",
   "name": "python",
   "nbconvert_exporter": "python",
   "pygments_lexer": "ipython3",
   "version": "3.12.0"
  }
 },
 "nbformat": 4,
 "nbformat_minor": 2
}
