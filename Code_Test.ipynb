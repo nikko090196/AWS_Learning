{
 "cells": [
  {
   "cell_type": "code",
   "execution_count": 7,
   "metadata": {},
   "outputs": [
    {
     "name": "stdout",
     "output_type": "stream",
     "text": [
      "  |   |   \n",
      "\n",
      "- - - - - \n",
      "\n",
      "  |   |   \n",
      "\n",
      "- - - - - \n",
      "\n",
      "  |   |   \n",
      "\n",
      "4\n",
      "Test: 2\n",
      "Test: 3\n",
      "Test: 4\n",
      "Test: 5\n"
     ]
    }
   ],
   "source": [
    "n = 1\n",
    "d = 3*n + 2\n",
    "for x in range(d):\n",
    "    for y in range(d):\n",
    "        if (x==n or x == 2*n+1) :\n",
    "            print(\"-\", end=\" \")\n",
    "        elif (y==n or y == 2*n+1):\n",
    "            print(\"|\", end=\" \")\n",
    "        else:\n",
    "            print(\" \", end=\" \")\n",
    "    print(\"\\n\")\n",
    "print(x)\n",
    "for x in range(2, 6):\n",
    "    print(f'Test: {x}')"
   ]
  },
  {
   "cell_type": "code",
   "execution_count": 15,
   "metadata": {},
   "outputs": [
    {
     "name": "stdout",
     "output_type": "stream",
     "text": [
      "4\n"
     ]
    },
    {
     "data": {
      "text/plain": [
       "False"
      ]
     },
     "execution_count": 15,
     "metadata": {},
     "output_type": "execute_result"
    }
   ],
   "source": [
    "age = input(\"Choose a number\")\n",
    "print(age_later) == int(age) + 1"
   ]
  },
  {
   "cell_type": "code",
   "execution_count": 23,
   "metadata": {},
   "outputs": [
    {
     "ename": "ValueError",
     "evalue": "invalid literal for int() with base 10: 'd'",
     "output_type": "error",
     "traceback": [
      "\u001b[0;31m---------------------------------------------------------------------------\u001b[0m",
      "\u001b[0;31mValueError\u001b[0m                                Traceback (most recent call last)",
      "\u001b[1;32m/Users/nikkopham/Desktop/AWSRestart/repository_learning/Test.ipynb Cell 3\u001b[0m line \u001b[0;36m1\n\u001b[0;32m----> <a href='vscode-notebook-cell:/Users/nikkopham/Desktop/AWSRestart/repository_learning/Test.ipynb#W2sZmlsZQ%3D%3D?line=0'>1</a>\u001b[0m age \u001b[39m=\u001b[39m \u001b[39mint\u001b[39;49m(\u001b[39minput\u001b[39;49m(\u001b[39m\"\u001b[39;49m\u001b[39mHow old are you?\u001b[39;49m\u001b[39m\"\u001b[39;49m))\n\u001b[1;32m      <a href='vscode-notebook-cell:/Users/nikkopham/Desktop/AWSRestart/repository_learning/Test.ipynb#W2sZmlsZQ%3D%3D?line=1'>2</a>\u001b[0m \u001b[39mprint\u001b[39m (age)\n",
      "\u001b[0;31mValueError\u001b[0m: invalid literal for int() with base 10: 'd'"
     ]
    }
   ],
   "source": [
    "age = int(input(\"How old are you?\"))\n",
    "print (age)"
   ]
  },
  {
   "cell_type": "code",
   "execution_count": null,
   "metadata": {},
   "outputs": [],
   "source": [
    "try:\n",
    "    number = int(input(\"Enter an integer: \"))\n",
    "    print(n = number)\n",
    "except ValueError:\n",
    "    print(\"Invalid input. Please enter an integer again\")"
   ]
  },
  {
   "cell_type": "code",
   "execution_count": 31,
   "metadata": {},
   "outputs": [
    {
     "name": "stdout",
     "output_type": "stream",
     "text": [
      "n = 3\n"
     ]
    }
   ],
   "source": [
    "while True:\n",
    "    number = input(\"Enter an integer which is larger than 0: \")\n",
    "    try:\n",
    "        number = int(number)\n",
    "        if number > 0:\n",
    "            n = number\n",
    "            print(\"n =\", n)\n",
    "            break \n",
    "        else:\n",
    "            print(\"The number needs to be larger than 0\")\n",
    "    except ValueError:\n",
    "        print(\"Your answer is not a valid integer\")\n"
   ]
  }
 ],
 "metadata": {
  "kernelspec": {
   "display_name": "Python 3",
   "language": "python",
   "name": "python3"
  },
  "language_info": {
   "codemirror_mode": {
    "name": "ipython",
    "version": 3
   },
   "file_extension": ".py",
   "mimetype": "text/x-python",
   "name": "python",
   "nbconvert_exporter": "python",
   "pygments_lexer": "ipython3",
   "version": "3.12.0"
  }
 },
 "nbformat": 4,
 "nbformat_minor": 2
}
