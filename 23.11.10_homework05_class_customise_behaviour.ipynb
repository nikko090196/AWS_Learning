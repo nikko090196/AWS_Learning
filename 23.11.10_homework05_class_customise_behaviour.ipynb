{
 "cells": [
  {
   "cell_type": "code",
   "execution_count": 12,
   "metadata": {},
   "outputs": [
    {
     "name": "stdout",
     "output_type": "stream",
     "text": [
      "{'brand': 'Kia', 'milage_km': 25700, 'range': 300}\n",
      "<__main__.ElectricCar object at 0x104db7530>\n",
      "\n",
      "{'brand': 'Mercedes', 'milage_km': 25750, 'fuel_consumption': 10, 'fuel_level': 75.0}\n",
      "<__main__.IceCar object at 0x104db7cb0>\n",
      "\n"
     ]
    }
   ],
   "source": [
    "class Car: \n",
    "    def __init__(self, brand, milage_km):\n",
    "        self.brand = brand  \n",
    "        self.milage_km = milage_km\n",
    "\n",
    "    def  drive(self, distance_km): \n",
    "        self.milage_km = self.milage_km + distance_km # x= x+1 can be written x+=1\n",
    "\n",
    "#------------------------------------------------------    \n",
    "#Electric Car:\n",
    "class ElectricCar(Car): #subclass of Car with inherited properties and methods of Car class\n",
    "    def __init__(self, brand, milage_km, range):\n",
    "        super().__init__(brand, milage_km) #initalise the attribute of the parent's class\n",
    "        self.range = range\n",
    "   \n",
    "    def drive(self, distance_km):\n",
    "        super().drive(distance_km)\n",
    "        self.range -= distance_km \n",
    "\n",
    "my_ev = ElectricCar(\"Kia\",25000,1000)\n",
    "my_ev.drive(distance_km = 700)\n",
    "\n",
    "print(my_ev.__dict__)\n",
    "print(my_ev)\n",
    "print(\"\")\n",
    "\n",
    "#------------------------------------------------------\n",
    "#Ice Car:\n",
    "class IceCar(Car):\n",
    "    def __init__(self, brand, milage_km, fuel_consumption, round(fuel_level):\n",
    "        Car.__init__(self, brand, milage_km) #initialise class Car bringin in the Clar clas variables, then we bring in IceCar class attributes with self.\n",
    "        self.fuel_consumption = fuel_consumption\n",
    "        self.fuel_level = fuel_level \n",
    "\n",
    "    def drive(self,distance_km):\n",
    "        super().drive(distance_km)\n",
    "        self.fuel_level = (distance_km* self.fuel_consumption)/100\n",
    "\n",
    "my_icecar = IceCar(\"Mercedes\", 25000, 10, 80)\n",
    "my_icecar.drive(750)\n",
    "\n",
    "print(my_icecar.__dict__)\n",
    "print(my_icecar)\n",
    "print(\"\")\n",
    "\n",
    "#Remove pass instead if you want to add customisation. type \"pass\" can be allowing you not having to defind the function or class -> just let you bypass"
   ]
  }
 ],
 "metadata": {
  "kernelspec": {
   "display_name": "Python 3",
   "language": "python",
   "name": "python3"
  },
  "language_info": {
   "codemirror_mode": {
    "name": "ipython",
    "version": 3
   },
   "file_extension": ".py",
   "mimetype": "text/x-python",
   "name": "python",
   "nbconvert_exporter": "python",
   "pygments_lexer": "ipython3",
   "version": "3.12.0"
  }
 },
 "nbformat": 4,
 "nbformat_minor": 2
}
