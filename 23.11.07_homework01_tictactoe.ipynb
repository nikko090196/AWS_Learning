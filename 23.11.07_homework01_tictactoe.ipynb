{
 "cells": [
  {
   "cell_type": "code",
   "execution_count": 49,
   "metadata": {},
   "outputs": [
    {
     "name": "stdout",
     "output_type": "stream",
     "text": [
      "Your answer is not a valid integer\n",
      "Your answer is not a valid integer\n",
      "The number needs to be larger than 0\n",
      "The number needs to be larger than 0\n",
      "n = 1\n",
      "  |   |   \n",
      "\n",
      "- - - - - \n",
      "\n",
      "  |   |   \n",
      "\n",
      "- - - - - \n",
      "\n",
      "  |   |   \n",
      "\n"
     ]
    }
   ],
   "source": [
    "#Pick the value of n:\n",
    "while True:\n",
    "    number = input(\"Enter an integer which is larger than 0: \")\n",
    "    try:\n",
    "        number = int(number)\n",
    "        if number > 0:\n",
    "            n = number\n",
    "            print(\"n =\", n)\n",
    "            break \n",
    "        else:\n",
    "            print(\"The number needs to be larger than 0\")\n",
    "    except ValueError:\n",
    "        print(\"Your answer is not a valid integer\")\n",
    "\n",
    "#Drawing the Tic-tac-toe with value of n provided above by the user: \n",
    "dots = 3*n + 2\n",
    "for row in range(dots):\n",
    "    for col in range(dots):\n",
    "        if (row==n or row == 2*n+1) :\n",
    "            print(\"-\", end=\" \")\n",
    "        elif (col==n or col == 2*n+1):\n",
    "            print(\"|\", end=\" \")\n",
    "        else:\n",
    "            print(\" \", end=\" \")\n",
    "    print(\"\\n\")\n",
    "\n",
    "\n"
   ]
  }
 ],
 "metadata": {
  "kernelspec": {
   "display_name": "Python 3",
   "language": "python",
   "name": "python3"
  },
  "language_info": {
   "codemirror_mode": {
    "name": "ipython",
    "version": 3
   },
   "file_extension": ".py",
   "mimetype": "text/x-python",
   "name": "python",
   "nbconvert_exporter": "python",
   "pygments_lexer": "ipython3",
   "version": "3.12.0"
  }
 },
 "nbformat": 4,
 "nbformat_minor": 2
}
