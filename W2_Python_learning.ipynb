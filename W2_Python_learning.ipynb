{
 "cells": [
  {
   "cell_type": "code",
   "execution_count": 152,
   "metadata": {},
   "outputs": [
    {
     "name": "stdout",
     "output_type": "stream",
     "text": [
      "3\n"
     ]
    }
   ],
   "source": [
    "#Week 1 - Day 1: Basic about Python\n",
    "i = 3\n",
    "print(i)"
   ]
  },
  {
   "cell_type": "code",
   "execution_count": 5,
   "metadata": {},
   "outputs": [
    {
     "data": {
      "text/plain": [
       "'Hello World'"
      ]
     },
     "execution_count": 5,
     "metadata": {},
     "output_type": "execute_result"
    }
   ],
   "source": [
    "j = \"Hello World\"\n",
    "j\n"
   ]
  },
  {
   "cell_type": "code",
   "execution_count": 1,
   "metadata": {},
   "outputs": [
    {
     "data": {
      "text/plain": [
       "'Nikko'"
      ]
     },
     "execution_count": 1,
     "metadata": {},
     "output_type": "execute_result"
    }
   ],
   "source": [
    "a = input(\"What is your name?\")\n",
    "a\n"
   ]
  },
  {
   "cell_type": "code",
   "execution_count": 2,
   "metadata": {},
   "outputs": [
    {
     "data": {
      "text/plain": [
       "3"
      ]
     },
     "execution_count": 2,
     "metadata": {},
     "output_type": "execute_result"
    }
   ],
   "source": [
    "k = 3\n",
    "k\n"
   ]
  },
  {
   "cell_type": "code",
   "execution_count": 4,
   "metadata": {},
   "outputs": [
    {
     "data": {
      "text/plain": [
       "True"
      ]
     },
     "execution_count": 4,
     "metadata": {},
     "output_type": "execute_result"
    }
   ],
   "source": [
    "my_boolean = True\n",
    "my_boolean"
   ]
  },
  {
   "cell_type": "code",
   "execution_count": 9,
   "metadata": {},
   "outputs": [
    {
     "data": {
      "text/plain": [
       "bool"
      ]
     },
     "execution_count": 9,
     "metadata": {},
     "output_type": "execute_result"
    }
   ],
   "source": [
    "type(True)"
   ]
  },
  {
   "cell_type": "code",
   "execution_count": 14,
   "metadata": {},
   "outputs": [
    {
     "data": {
      "text/plain": [
       "int"
      ]
     },
     "execution_count": 14,
     "metadata": {},
     "output_type": "execute_result"
    }
   ],
   "source": [
    "type(10)"
   ]
  },
  {
   "cell_type": "code",
   "execution_count": 18,
   "metadata": {},
   "outputs": [
    {
     "data": {
      "text/plain": [
       "str"
      ]
     },
     "execution_count": 18,
     "metadata": {},
     "output_type": "execute_result"
    }
   ],
   "source": [
    "type(\"Aha\")"
   ]
  },
  {
   "cell_type": "code",
   "execution_count": 19,
   "metadata": {},
   "outputs": [
    {
     "name": "stdout",
     "output_type": "stream",
     "text": [
      "3\n",
      "7\n"
     ]
    }
   ],
   "source": [
    "i = 3\n",
    "print(i)\n",
    "i = 7\n",
    "print(i)"
   ]
  },
  {
   "cell_type": "code",
   "execution_count": 22,
   "metadata": {},
   "outputs": [
    {
     "data": {
      "text/plain": [
       "'ALOHA'"
      ]
     },
     "execution_count": 22,
     "metadata": {},
     "output_type": "execute_result"
    }
   ],
   "source": [
    "s = \"Aloha\"\n",
    "s = s.upper()\n",
    "s"
   ]
  },
  {
   "cell_type": "code",
   "execution_count": 23,
   "metadata": {},
   "outputs": [
    {
     "data": {
      "text/plain": [
       "'aloha'"
      ]
     },
     "execution_count": 23,
     "metadata": {},
     "output_type": "execute_result"
    }
   ],
   "source": [
    "s = \"Aloha\"\n",
    "s = s.lower()\n",
    "s"
   ]
  },
  {
   "cell_type": "code",
   "execution_count": 45,
   "metadata": {},
   "outputs": [
    {
     "data": {
      "text/plain": [
       "'A nested list'"
      ]
     },
     "execution_count": 45,
     "metadata": {},
     "output_type": "execute_result"
    }
   ],
   "source": [
    "l = [\"Nikko\", \"Steve\", 27,\"Old\",[\"A nested list\",\"Haya\"]]\n",
    "l[4][0]\n",
    "#always counting the list from left to right start with 0,1,2,3,....\n",
    "#couting the list from right to left start with -1"
   ]
  },
  {
   "cell_type": "code",
   "execution_count": 46,
   "metadata": {},
   "outputs": [
    {
     "data": {
      "text/plain": [
       "5"
      ]
     },
     "execution_count": 46,
     "metadata": {},
     "output_type": "execute_result"
    }
   ],
   "source": [
    "len(l)"
   ]
  },
  {
   "cell_type": "code",
   "execution_count": 47,
   "metadata": {},
   "outputs": [
    {
     "data": {
      "text/plain": [
       "2"
      ]
     },
     "execution_count": 47,
     "metadata": {},
     "output_type": "execute_result"
    }
   ],
   "source": [
    "len(l[-1])"
   ]
  },
  {
   "cell_type": "code",
   "execution_count": 7,
   "metadata": {},
   "outputs": [
    {
     "data": {
      "text/plain": [
       "'string!'"
      ]
     },
     "execution_count": 7,
     "metadata": {},
     "output_type": "execute_result"
    }
   ],
   "source": [
    "t = \"This is a string!\"\n",
    "t[10:17]"
   ]
  },
  {
   "cell_type": "code",
   "execution_count": 156,
   "metadata": {},
   "outputs": [
    {
     "data": {
      "text/plain": [
       "'This is a string'"
      ]
     },
     "execution_count": 156,
     "metadata": {},
     "output_type": "execute_result"
    }
   ],
   "source": [
    "t = \"This is a string!\"\n",
    "t[0:-1]"
   ]
  },
  {
   "cell_type": "code",
   "execution_count": 165,
   "metadata": {},
   "outputs": [
    {
     "name": "stdout",
     "output_type": "stream",
     "text": [
      "['world']\n",
      "['world', 'this is a string']\n",
      "[19, 'world', 'this is a string']\n",
      "[19, 'amanda', 'world', 'this is a string']\n"
     ]
    }
   ],
   "source": [
    "new_list = [\"world\"]\n",
    "print (new_list)\n",
    "new_list.append(\"this is a string\")\n",
    "print(new_list)\n",
    "new_list.insert(0,19)\n",
    "print(new_list)\n",
    "new_list.insert(1,\"amanda\")\n",
    "print(new_list)"
   ]
  },
  {
   "cell_type": "code",
   "execution_count": 138,
   "metadata": {},
   "outputs": [
    {
     "name": "stdout",
     "output_type": "stream",
     "text": [
      "['world']\n",
      "['world', 'this is a string']\n",
      "[19, 'world', 'this is a string']\n",
      "[19, 'world']\n",
      "['world']\n"
     ]
    }
   ],
   "source": [
    "new_list = [\"world\"]\n",
    "print (new_list)\n",
    "new_list.append(\"this is a string\")\n",
    "print(new_list)\n",
    "new_list.insert(0,19)\n",
    "print(new_list)\n",
    "new_list.pop()\n",
    "print(new_list)\n",
    "new_list.pop(0)\n",
    "print(new_list)\n"
   ]
  },
  {
   "cell_type": "code",
   "execution_count": 142,
   "metadata": {},
   "outputs": [
    {
     "data": {
      "text/plain": [
       "[5, 4, 3, 2, 1, 0]"
      ]
     },
     "execution_count": 142,
     "metadata": {},
     "output_type": "execute_result"
    }
   ],
   "source": [
    "number_list = [0,5,4,2,1,3,]\n",
    "number_list.sort(reverse = True)\n",
    "number_list"
   ]
  },
  {
   "cell_type": "code",
   "execution_count": 174,
   "metadata": {},
   "outputs": [
    {
     "name": "stdout",
     "output_type": "stream",
     "text": [
      "[5, 4, 3, 2, 1, 0, -1]\n"
     ]
    }
   ],
   "source": [
    "number_list = [0,5,4,2,1,3, int(-1)]\n",
    "print(sorted(number_list, reverse=True))\n"
   ]
  },
  {
   "cell_type": "code",
   "execution_count": 169,
   "metadata": {},
   "outputs": [
    {
     "name": "stdout",
     "output_type": "stream",
     "text": [
      "['Badger', 'Sean', 'Zebra', 'carrot', 'potato']\n"
     ]
    }
   ],
   "source": [
    "string_list=[\"Zebra\",\"Badger\",\"Sean\",\"potato\",\"carrot\"]\n",
    "print(sorted(string_list))"
   ]
  },
  {
   "cell_type": "code",
   "execution_count": 179,
   "metadata": {},
   "outputs": [
    {
     "name": "stdout",
     "output_type": "stream",
     "text": [
      "<class 'str'>\n"
     ]
    }
   ],
   "source": [
    "print(type(\"5\"))"
   ]
  },
  {
   "cell_type": "code",
   "execution_count": 10,
   "metadata": {},
   "outputs": [
    {
     "name": "stdout",
     "output_type": "stream",
     "text": [
      "In a year you will be 28.\n"
     ]
    }
   ],
   "source": [
    "age=input(\"How old are you?\")#this will return a string\n",
    "age= int(age)+1 #so we have to cast it to a number before doing artmetic\n",
    "print(f\"In a year you will be {age}.\") #string interpolation. Anything in the curly brackets will be integer"
   ]
  },
  {
   "cell_type": "code",
   "execution_count": 8,
   "metadata": {},
   "outputs": [
    {
     "name": "stdout",
     "output_type": "stream",
     "text": [
      "In a year you will be 28 .\n"
     ]
    }
   ],
   "source": [
    "age=input(\"How old are you?\")\n",
    "age = int(age)\n",
    "print(\"In a year you will be\",age+1,\".\")\n"
   ]
  },
  {
   "cell_type": "code",
   "execution_count": 201,
   "metadata": {},
   "outputs": [
    {
     "name": "stdout",
     "output_type": "stream",
     "text": [
      "61\n"
     ]
    }
   ],
   "source": [
    "HOURLY_SALARY=50 #convention of creating a constant is have the variable name in all caps.\n",
    "\n",
    "from typing import Final\n",
    "#Importing the Final class from the \"typing\" - someone else has already coded this and we are borrowing to you.\n",
    "NEW_HOURLY_SALARY: Final [int] = 60\n",
    "NEW_HOURLY_SALARY = 61\n",
    "print(NEW_HOURLY_SALARY)"
   ]
  },
  {
   "cell_type": "code",
   "execution_count": 13,
   "metadata": {},
   "outputs": [
    {
     "ename": "TypeError",
     "evalue": "'int' object does not support item assignment",
     "output_type": "error",
     "traceback": [
      "\u001b[0;31m---------------------------------------------------------------------------\u001b[0m",
      "\u001b[0;31mTypeError\u001b[0m                                 Traceback (most recent call last)",
      "\u001b[1;32m/Users/nikkopham/Desktop/AWSRestart/repository_learning/Program1.ipynb Cell 26\u001b[0m line \u001b[0;36m2\n\u001b[1;32m      <a href='vscode-notebook-cell:/Users/nikkopham/Desktop/AWSRestart/repository_learning/Program1.ipynb#X35sZmlsZQ%3D%3D?line=0'>1</a>\u001b[0m my_tuples \u001b[39m=\u001b[39m (\u001b[39m3\u001b[39m)\n\u001b[0;32m----> <a href='vscode-notebook-cell:/Users/nikkopham/Desktop/AWSRestart/repository_learning/Program1.ipynb#X35sZmlsZQ%3D%3D?line=1'>2</a>\u001b[0m my_tuples[\u001b[39m0\u001b[39;49m] \u001b[39m=\u001b[39m \u001b[39m2\u001b[39m\n",
      "\u001b[0;31mTypeError\u001b[0m: 'int' object does not support item assignment"
     ]
    }
   ],
   "source": [
    "#Week 2 - Day 2: set, loop\n",
    "my_tuples = (3) #initialising factor - aware that tuples cannot be changed.\n",
    "my_tuples[0] = 2 #cannot change it later - can be seen similar as constant.\n"
   ]
  },
  {
   "cell_type": "code",
   "execution_count": 26,
   "metadata": {},
   "outputs": [
    {
     "name": "stdout",
     "output_type": "stream",
     "text": [
      "{'apples', 'cherries', 'mangoes', 'bananas', 'oranges'}\n",
      "{'apples'}\n",
      "{'bananas', 'mangoes'}\n",
      "{'cherries', 'oranges'}\n"
     ]
    },
    {
     "data": {
      "text/plain": [
       "['oranges', 'mangoes', 'cherries', 'bananas', 'apples']"
      ]
     },
     "execution_count": 26,
     "metadata": {},
     "output_type": "execute_result"
    }
   ],
   "source": [
    "my_set = {\"apples\", \"bananas\", \"mangoes\"} #set is mostly for compare/union/difference/...\n",
    "another_set = {\"apples\", \"cherries\", \"oranges\"}\n",
    "union = my_set.union(another_set) #vent diagram - choose all\n",
    "print(union)\n",
    "intersection = my_set.intersection(another_set) #vent diagram - intersection\n",
    "print(intersection)\n",
    "only_mine = my_set.difference(another_set) #exclusive of my_Set\n",
    "print(only_mine)\n",
    "only_another_set = another_set.difference(my_set) #exclusive of another_set\n",
    "print(only_another_set)\n",
    "sorted(list(union), reverse=\"False\")\n"
   ]
  },
  {
   "cell_type": "code",
   "execution_count": 46,
   "metadata": {},
   "outputs": [
    {
     "name": "stdout",
     "output_type": "stream",
     "text": [
      "Alvin\n",
      "50\n",
      "51\n",
      "50\n"
     ]
    }
   ],
   "source": [
    "my_info = {\"name\": \"Alvin\", \"age\": 50} #Dictionary list: my_info = {item 1 will have KEY (string/integer): and VALUE (could be anything or one), item 2 will have KEY (string/integer): VALUE (could be anything or none)}\n",
    "name = my_info[\"name\"] #access value\n",
    "age = my_info[\"age\"]\n",
    "print(name)\n",
    "print(age)\n",
    "my_info[\"age\"] = my_info[\"age\"] +1 #assign the value with new value\n",
    "print(my_info[\"age\"])\n",
    "print(age) #check again for deep and shallow copy"
   ]
  },
  {
   "cell_type": "code",
   "execution_count": 52,
   "metadata": {},
   "outputs": [
    {
     "name": "stdout",
     "output_type": "stream",
     "text": [
      "{'pet': 'cat'}\n",
      "{'pet': 'cat', 'vet': 'pet cat'}\n",
      "{'pet': 'cat', 'vet': 'pet cat', 'owner': ['Nikko', 'Steve'], 'my dictionary': {...}}\n"
     ]
    }
   ],
   "source": [
    "my_dict = dict() #my_dict = {} is similar with my_dict = dict() - empty dictionary\n",
    "my_dict [\"pet\"] = \"cat\" #add new item to existing dict.\n",
    "print(my_dict)\n",
    "my_dict [\"vet\"] = \"pet cat\" #add more item to existing dict.\n",
    "print(my_dict)\n",
    "my_dict [\"owner\"] = l= [\"Nikko\", \"Steve\"]\n",
    "my_dict [\"my dictionary\"] = my_dict #shallowing copy\n",
    "print(my_dict)"
   ]
  },
  {
   "cell_type": "code",
   "execution_count": 7,
   "metadata": {},
   "outputs": [
    {
     "name": "stdout",
     "output_type": "stream",
     "text": [
      "Hello, how are you?\n",
      "I am fine. Thank you.\n",
      "\n"
     ]
    }
   ],
   "source": [
    "f = open (\"Text.txt\", \"r\")\n",
    "print(f.read()) #look for the current folder for the file"
   ]
  },
  {
   "cell_type": "code",
   "execution_count": 8,
   "metadata": {},
   "outputs": [
    {
     "name": "stdout",
     "output_type": "stream",
     "text": [
      "Hello, how are you?\n",
      "\n",
      "I am fine. Thank you.\n",
      "\n"
     ]
    }
   ],
   "source": [
    "f = open (\"Text.txt\", \"r\")\n",
    "print(f.readline()) #print first line only\n",
    "print(f.readline()) #print second line only\n"
   ]
  },
  {
   "cell_type": "code",
   "execution_count": 1,
   "metadata": {},
   "outputs": [
    {
     "name": "stdout",
     "output_type": "stream",
     "text": [
      "HELLO, HOW ARE YOU?\n",
      "\n",
      "everytime\n",
      "I AM FINE. THANK YOU.\n",
      "\n",
      "everytime\n",
      "THIS IS A BEAUTIFUL DAY.\n",
      "\n",
      "everytime\n",
      "HOW DO YOU THINK?\n",
      "\n",
      "everytime\n",
      "THE WEATHER IS VERY NICE\n",
      "everytime\n",
      "finish\n"
     ]
    }
   ],
   "source": [
    "f = open (\"W2_Text.txt\", \"r\")\n",
    "for x in f: #\"for\" loop, \"f\" is iterable\n",
    "    print(x.upper())\n",
    "    print(\"everytime\")\n",
    "print(\"finish\")\n"
   ]
  },
  {
   "cell_type": "code",
   "execution_count": 24,
   "metadata": {},
   "outputs": [
    {
     "name": "stdout",
     "output_type": "stream",
     "text": [
      "You are a dog person\n"
     ]
    }
   ],
   "source": [
    "favourite_animal = input(\"What is your favourite animal?\")\n",
    "favourite_animal = favourite_animal.lower()\n",
    "if favourite_animal == \"dog\":\n",
    "    print(\"You are a dog person\")\n",
    "elif favourite_animal == \"cat\":\n",
    "    print(\"You are a cat person\")\n",
    "else: \n",
    "    print(\"You are not a dog or cat person\")\n"
   ]
  },
  {
   "cell_type": "code",
   "execution_count": 23,
   "metadata": {},
   "outputs": [
    {
     "data": {
      "text/plain": [
       "False"
      ]
     },
     "execution_count": 23,
     "metadata": {},
     "output_type": "execute_result"
    }
   ],
   "source": [
    "4<3"
   ]
  },
  {
   "cell_type": "code",
   "execution_count": 25,
   "metadata": {},
   "outputs": [
    {
     "name": "stdout",
     "output_type": "stream",
     "text": [
      "mouse\n",
      "dog\n"
     ]
    }
   ],
   "source": [
    "favourite_animal = \"\" #empty value\n",
    "while favourite_animal != \"cat\" and favourite_animal != \"dog\":\n",
    "    favourite_animal = input(\"Are you a dog person or a cat person?\")\n",
    "    print(favourite_animal)"
   ]
  },
  {
   "cell_type": "code",
   "execution_count": 2,
   "metadata": {},
   "outputs": [
    {
     "name": "stdout",
     "output_type": "stream",
     "text": [
      "dog\n"
     ]
    }
   ],
   "source": [
    "favourite_animal = \"\" #empty value\n",
    "while favourite_animal != \"cat\" and favourite_animal != \"dog\":\n",
    "    favourite_animal = input(\"Are you a dog person or a cat person?\")\n",
    "    break\n",
    "print(favourite_animal)"
   ]
  },
  {
   "cell_type": "code",
   "execution_count": 3,
   "metadata": {},
   "outputs": [
    {
     "name": "stdout",
     "output_type": "stream",
     "text": [
      "human\n"
     ]
    }
   ],
   "source": [
    "#Week 2 - Day 3: Flow control\n",
    "#while-break:\n",
    "favourite_animal = \"\" #empty value\n",
    "while favourite_animal != \"cat\" and favourite_animal != \"dog\":\n",
    "    favourite_animal = input(\"Are you a dog person or a cat person?\")\n",
    "    if favourite_animal == \"human\":\n",
    "        break #cheat code\n",
    "print(favourite_animal)"
   ]
  },
  {
   "cell_type": "code",
   "execution_count": 5,
   "metadata": {},
   "outputs": [
    {
     "name": "stdout",
     "output_type": "stream",
     "text": [
      "x=1\n"
     ]
    }
   ],
   "source": [
    "#Switch case: Match/case\n",
    "x = 1\n",
    "match x:\n",
    "    case 1:\n",
    "        print(\"x=1\")\n",
    "    case 2:\n",
    "        print(\"x=2\")\n",
    "    case _: #default case, outside the range\n",
    "        print(\"I don't want to check about x\")\n"
   ]
  },
  {
   "cell_type": "code",
   "execution_count": 9,
   "metadata": {},
   "outputs": [
    {
     "name": "stdout",
     "output_type": "stream",
     "text": [
      "It is not my colour\n"
     ]
    }
   ],
   "source": [
    "from enum import Enum #enum: help you quick evaluate thing\n",
    "\n",
    "class colour(Enum): #define the allow item in the particular set of item:\n",
    "    RED = 1\n",
    "    BLUE = 2\n",
    "    GREEN = 3\n",
    "    ORANGE = 4\n",
    "    VIOLET = 5\n",
    "    YELLOW = 6\n",
    "    MAROON = 7\n",
    "\n",
    "my_colour = colour.VIOLET\n",
    "\n",
    "match my_colour:\n",
    "    case colour.RED:\n",
    "        print(\"Colour is Red\")\n",
    "    case colour.BLUE:\n",
    "        print(\"Colour is Blue\")\n",
    "    case colour.GREEN:\n",
    "        print(\"Colour is Green\")\n",
    "    case colour.ORANGE:\n",
    "        print(\"Colour is Orange\")\n",
    "    case _:\n",
    "        print(\"It is not my colour\")"
   ]
  },
  {
   "cell_type": "code",
   "execution_count": 12,
   "metadata": {},
   "outputs": [
    {
     "name": "stdout",
     "output_type": "stream",
     "text": [
      "Colour is Red\n"
     ]
    }
   ],
   "source": [
    "from enum import Enum #enum: help you quick evaluate thing\n",
    "\n",
    "class colour(Enum): #define the allow item in the particular set of item:\n",
    "    Red = 1 #test if we need to make it uppercase.\n",
    "    Blue = 2\n",
    "    Green = 3\n",
    "    Orange = 4\n",
    "    Violet = 5\n",
    "    Yellow = 6\n",
    "    Maroon = 7\n",
    "\n",
    "my_colour = colour.Red\n",
    "\n",
    "match my_colour:\n",
    "    case colour.Red:\n",
    "        print(\"Colour is Red\")\n",
    "    case colour.Blue:\n",
    "        print(\"Colour is Blue\")\n",
    "    case colour.Green:\n",
    "        print(\"Colour is Green\")\n",
    "    case colour.Orange:\n",
    "        print(\"Colour is Orange\")\n",
    "    case _:\n",
    "        print(\"It is not my colour\")"
   ]
  },
  {
   "cell_type": "code",
   "execution_count": 14,
   "metadata": {},
   "outputs": [
    {
     "data": {
      "text/plain": [
       "range(0, 5)"
      ]
     },
     "execution_count": 14,
     "metadata": {},
     "output_type": "execute_result"
    }
   ],
   "source": [
    "range (5) #implement of of thing called Iterable\n"
   ]
  },
  {
   "cell_type": "code",
   "execution_count": 15,
   "metadata": {},
   "outputs": [
    {
     "name": "stdout",
     "output_type": "stream",
     "text": [
      "0\n",
      "1\n",
      "2\n",
      "3\n",
      "4\n"
     ]
    }
   ],
   "source": [
    "for i in range(5): #print from the first 0 -> 4 (before the end of range)\n",
    "    print(i)"
   ]
  },
  {
   "cell_type": "code",
   "execution_count": 17,
   "metadata": {},
   "outputs": [
    {
     "name": "stdout",
     "output_type": "stream",
     "text": [
      "0\n",
      "1\n",
      "2\n",
      "3\n",
      "4\n"
     ]
    }
   ],
   "source": [
    "my_list = [0,1,2,3,4]\n",
    "for i in my_list: #can name \"i\" like anything\n",
    "    print(i)"
   ]
  },
  {
   "cell_type": "code",
   "execution_count": 19,
   "metadata": {},
   "outputs": [
    {
     "name": "stdout",
     "output_type": "stream",
     "text": [
      "NIKKO\n",
      "STEVE\n",
      "NICK\n",
      "EVELYN\n"
     ]
    }
   ],
   "source": [
    "my_list = [\"Nikko\", \"Steve\", \"Nick\", \"Evelyn\"] #range is used when you don't care about the value when you run a loop on\n",
    "for i in my_list: \n",
    "    print(i.upper())"
   ]
  },
  {
   "cell_type": "code",
   "execution_count": 21,
   "metadata": {},
   "outputs": [
    {
     "name": "stdout",
     "output_type": "stream",
     "text": [
      "NIKKO\n",
      "STEVE\n",
      "NICK\n",
      "EVELYN\n",
      "['NIKKO', 'STEVE', 'NICK', 'EVELYN']\n"
     ]
    }
   ],
   "source": [
    "my_list = [\"Nikko\", \"Steve\", \"Nick\", \"Evelyn\"] #range is used when you don't care about the value when you run a loop on\n",
    "new_list = []\n",
    "for i in my_list: \n",
    "    new_name=i.upper()\n",
    "    new_list.append(new_name)\n",
    "    print(new_name)\n",
    "print(new_list)"
   ]
  },
  {
   "cell_type": "code",
   "execution_count": 22,
   "metadata": {},
   "outputs": [
    {
     "name": "stdout",
     "output_type": "stream",
     "text": [
      "['NIKKO', 'STEVE', 'NICK', 'EVELYN']\n"
     ]
    }
   ],
   "source": [
    "my_list = [\"Nikko\", \"Steve\", \"Nick\", \"Evelyn\"] #range is used when you don't care about the value when you run a loop on\n",
    "new_list = [i.upper() for i in my_list] #list comprehension\n",
    "print(new_list)\n"
   ]
  },
  {
   "cell_type": "code",
   "execution_count": 25,
   "metadata": {},
   "outputs": [
    {
     "name": "stdout",
     "output_type": "stream",
     "text": [
      "[4.6, 6.2, 11.2, 15.6, 19.0]\n"
     ]
    }
   ],
   "source": [
    "my_numbers = [3.1, 5.6, 7.8, 9.5, 2.3]\n",
    "new_numbers = [2*i for i in my_numbers]\n",
    "print(new_numbers)"
   ]
  },
  {
   "cell_type": "code",
   "execution_count": 26,
   "metadata": {},
   "outputs": [
    {
     "name": "stdout",
     "output_type": "stream",
     "text": [
      "0.Nikko\n",
      "1.Steve\n",
      "2.Nick\n",
      "3.Evelyn\n"
     ]
    }
   ],
   "source": [
    "my_list = [\"Nikko\", \"Steve\", \"Nick\", \"Evelyn\"]\n",
    "for index, item in enumerate(my_list):\n",
    "    print(f\"{index}.{item}\") #flushing: casting thing into string"
   ]
  },
  {
   "cell_type": "code",
   "execution_count": 2,
   "metadata": {},
   "outputs": [
    {
     "name": "stdout",
     "output_type": "stream",
     "text": [
      "Name: Nikko\n",
      "Age: 27\n",
      "Place: Auckland\n"
     ]
    }
   ],
   "source": [
    "my_info = {\"Name\": \"Nikko\", \"Age\": 27, \"Place\": \"Auckland\"}\n",
    "for key,value in my_info.items(): #apply to dictionary\n",
    "    print(f\"{key}: {value}\")"
   ]
  },
  {
   "cell_type": "code",
   "execution_count": 4,
   "metadata": {},
   "outputs": [
    {
     "name": "stdout",
     "output_type": "stream",
     "text": [
      "Name :  Nikko\n",
      "Age :  27\n",
      "Place :  Auckland\n"
     ]
    }
   ],
   "source": [
    "my_info = {\"Name\": \"Nikko\", \"Age\": 27, \"Place\": \"Auckland\"}\n",
    "for key,value in my_info.items(): #apply to dictionary\n",
    "    print(key,\": \",value)"
   ]
  },
  {
   "cell_type": "code",
   "execution_count": 41,
   "metadata": {},
   "outputs": [
    {
     "name": "stdout",
     "output_type": "stream",
     "text": [
      "['Item 1', 'Item 2', 'Item 3', 'Item 4']\n",
      "Item 1\n",
      "Item 2\n",
      "Item 3\n",
      "['Item 4']\n"
     ]
    }
   ],
   "source": [
    "my_queue = []\n",
    "my_queue.append(\"Item 1\")\n",
    "my_queue.append(\"Item 2\")\n",
    "my_queue.append(\"Item 3\")\n",
    "my_queue.append(\"Item 4\")\n",
    "print(my_queue)\n",
    "print(my_queue.pop(0))\n",
    "print(my_queue.pop(0))\n",
    "print(my_queue.pop(0))\n",
    "print(my_queue)"
   ]
  },
  {
   "cell_type": "code",
   "execution_count": 44,
   "metadata": {},
   "outputs": [
    {
     "name": "stdout",
     "output_type": "stream",
     "text": [
      "10\n",
      "152\n",
      "2468\n"
     ]
    }
   ],
   "source": [
    "def times_two(x):\n",
    "    return 2*x\n",
    "print(times_two(5))\n",
    "print(times_two(76))\n",
    "print(times_two(1234))"
   ]
  },
  {
   "cell_type": "code",
   "execution_count": null,
   "metadata": {},
   "outputs": [],
   "source": [
    "def times_two(x): #function that don't have side effect: check later what the name\n",
    "    return 2*x\n",
    "times_two(5)\n",
    "times_two(76)\n",
    "times_two(1234)"
   ]
  },
  {
   "cell_type": "code",
   "execution_count": 46,
   "metadata": {},
   "outputs": [
    {
     "name": "stdout",
     "output_type": "stream",
     "text": [
      "value of x = 2 and value of y = 3\n"
     ]
    }
   ],
   "source": [
    "#Function\n",
    "def side_effect(x,y):\n",
    "    print(f\"value of x = {x} and value of y = {y}\")\n",
    "side_effect(2,3)\n"
   ]
  },
  {
   "cell_type": "code",
   "execution_count": null,
   "metadata": {},
   "outputs": [],
   "source": [
    "def side_effect(x,y): #x and y here are called input arguments\n",
    "    print(f\"value of x = {x} and value of y = {y}\")\n",
    "side_effect(2,3)\n"
   ]
  },
  {
   "cell_type": "code",
   "execution_count": 47,
   "metadata": {},
   "outputs": [
    {
     "name": "stdout",
     "output_type": "stream",
     "text": [
      "Nicely printing 3192\n",
      "Nicely printing 1190\n",
      "Nicely printing 56\n"
     ]
    },
    {
     "data": {
      "text/plain": [
       "56"
      ]
     },
     "execution_count": 47,
     "metadata": {},
     "output_type": "execute_result"
    }
   ],
   "source": [
    "def print_nicely(my_string): #my_string is called input argument\n",
    "    print(f\"Nicely printing {my_string}\")\n",
    "def complex_processing(x):\n",
    "    output_value= x*x + x \n",
    "    print_nicely(output_value) #need to define first print_nicely, otherwise it will not be defined and used for this code\n",
    "    return output_value\n",
    "\n",
    "complex_processing(56)\n",
    "complex_processing(34)\n",
    "complex_processing(7)\n",
    "\n",
    "\n"
   ]
  },
  {
   "cell_type": "code",
   "execution_count": 50,
   "metadata": {},
   "outputs": [
    {
     "name": "stdout",
     "output_type": "stream",
     "text": [
      "6\n"
     ]
    },
    {
     "data": {
      "text/plain": [
       "12"
      ]
     },
     "execution_count": 50,
     "metadata": {},
     "output_type": "execute_result"
    }
   ],
   "source": [
    "x = 5\n",
    "\n",
    "def times_two(x):\n",
    "    print(x)\n",
    "    return 2*x\n",
    "times_two(6)"
   ]
  },
  {
   "cell_type": "code",
   "execution_count": 53,
   "metadata": {},
   "outputs": [
    {
     "name": "stdout",
     "output_type": "stream",
     "text": [
      "5\n"
     ]
    },
    {
     "data": {
      "text/plain": [
       "12"
      ]
     },
     "execution_count": 53,
     "metadata": {},
     "output_type": "execute_result"
    }
   ],
   "source": [
    "y = 5\n",
    "\n",
    "def times_two(x):\n",
    "    print(y) #y is in-scope. you have already known the value of y\n",
    "    return 2*x\n",
    "times_two(6)"
   ]
  },
  {
   "cell_type": "code",
   "execution_count": 55,
   "metadata": {},
   "outputs": [
    {
     "name": "stdout",
     "output_type": "stream",
     "text": [
      "y = 6\n"
     ]
    },
    {
     "data": {
      "text/plain": [
       "12"
      ]
     },
     "execution_count": 55,
     "metadata": {},
     "output_type": "execute_result"
    }
   ],
   "source": [
    "y = 5\n",
    "\n",
    "def times_two(x):\n",
    "    y=x\n",
    "    print(f\"y = {y}\")\n",
    "    return 2*x\n",
    "times_two(6)"
   ]
  },
  {
   "cell_type": "code",
   "execution_count": 59,
   "metadata": {},
   "outputs": [
    {
     "name": "stdout",
     "output_type": "stream",
     "text": [
      "y = 6\n",
      "y = 5\n"
     ]
    }
   ],
   "source": [
    "y = 5\n",
    "\n",
    "def times_two(x):\n",
    "    y=x\n",
    "    print(f\"y = {y}\") #inside of scope is different value (y=6))\n",
    "    return 2*x\n",
    "\n",
    "times_two(6)\n",
    "print(f\"y = {y}\") #outside of scope is different value (eg. 5)"
   ]
  },
  {
   "cell_type": "code",
   "execution_count": 1,
   "metadata": {},
   "outputs": [
    {
     "ename": "ZeroDivisionError",
     "evalue": "division by zero",
     "output_type": "error",
     "traceback": [
      "\u001b[0;31m---------------------------------------------------------------------------\u001b[0m",
      "\u001b[0;31mZeroDivisionError\u001b[0m                         Traceback (most recent call last)",
      "\u001b[1;32m/Users/nikkopham/Desktop/AWSRestart/repository_learning/W2_Python_learning.ipynb Cell 61\u001b[0m line \u001b[0;36m1\n\u001b[0;32m----> <a href='vscode-notebook-cell:/Users/nikkopham/Desktop/AWSRestart/repository_learning/W2_Python_learning.ipynb#Y115sZmlsZQ%3D%3D?line=0'>1</a>\u001b[0m \u001b[39m1\u001b[39;49m\u001b[39m/\u001b[39;49m\u001b[39m0\u001b[39;49m\n",
      "\u001b[0;31mZeroDivisionError\u001b[0m: division by zero"
     ]
    }
   ],
   "source": [
    "#Week 2 - Day 4: Error and handling:\n",
    "1/0\n"
   ]
  },
  {
   "cell_type": "code",
   "execution_count": 2,
   "metadata": {},
   "outputs": [
    {
     "ename": "NameError",
     "evalue": "name 'y' is not defined",
     "output_type": "error",
     "traceback": [
      "\u001b[0;31m---------------------------------------------------------------------------\u001b[0m",
      "\u001b[0;31mNameError\u001b[0m                                 Traceback (most recent call last)",
      "\u001b[1;32m/Users/nikkopham/Desktop/AWSRestart/repository_learning/W2_Python_learning.ipynb Cell 62\u001b[0m line \u001b[0;36m1\n\u001b[0;32m----> <a href='vscode-notebook-cell:/Users/nikkopham/Desktop/AWSRestart/repository_learning/W2_Python_learning.ipynb#Y114sZmlsZQ%3D%3D?line=0'>1</a>\u001b[0m x \u001b[39m=\u001b[39m y\n",
      "\u001b[0;31mNameError\u001b[0m: name 'y' is not defined"
     ]
    }
   ],
   "source": [
    "x = y"
   ]
  },
  {
   "cell_type": "code",
   "execution_count": 3,
   "metadata": {},
   "outputs": [
    {
     "ename": "AssertionError",
     "evalue": "",
     "output_type": "error",
     "traceback": [
      "\u001b[0;31m---------------------------------------------------------------------------\u001b[0m",
      "\u001b[0;31mAssertionError\u001b[0m                            Traceback (most recent call last)",
      "\u001b[1;32m/Users/nikkopham/Desktop/AWSRestart/repository_learning/W2_Python_learning.ipynb Cell 63\u001b[0m line \u001b[0;36m1\n\u001b[0;32m----> <a href='vscode-notebook-cell:/Users/nikkopham/Desktop/AWSRestart/repository_learning/W2_Python_learning.ipynb#Y116sZmlsZQ%3D%3D?line=0'>1</a>\u001b[0m \u001b[39massert\u001b[39;00m \u001b[39m1\u001b[39m \u001b[39m==\u001b[39m \u001b[39m0\u001b[39m\n",
      "\u001b[0;31mAssertionError\u001b[0m: "
     ]
    }
   ],
   "source": [
    "assert 1 == 0 #assert: test whether 1 is equal to 0\n"
   ]
  },
  {
   "cell_type": "code",
   "execution_count": 5,
   "metadata": {},
   "outputs": [
    {
     "ename": "AssertionError",
     "evalue": "I expect 1 and 0 to be different",
     "output_type": "error",
     "traceback": [
      "\u001b[0;31m---------------------------------------------------------------------------\u001b[0m",
      "\u001b[0;31mAssertionError\u001b[0m                            Traceback (most recent call last)",
      "\u001b[1;32m/Users/nikkopham/Desktop/AWSRestart/repository_learning/W2_Python_learning.ipynb Cell 64\u001b[0m line \u001b[0;36m1\n\u001b[0;32m----> <a href='vscode-notebook-cell:/Users/nikkopham/Desktop/AWSRestart/repository_learning/W2_Python_learning.ipynb#Y120sZmlsZQ%3D%3D?line=0'>1</a>\u001b[0m \u001b[39massert\u001b[39;00m \u001b[39m1\u001b[39m \u001b[39m==\u001b[39m \u001b[39m0\u001b[39m, \u001b[39m\"\u001b[39m\u001b[39mI expect 1 and 0 to be different\u001b[39m\u001b[39m\"\u001b[39m\n",
      "\u001b[0;31mAssertionError\u001b[0m: I expect 1 and 0 to be different"
     ]
    }
   ],
   "source": [
    "#Simplest thing that you use to test you code.\n",
    "assert 1 == 0, \"I expect 1 and 0 to be different\" #don't need to write this string statement, just for the future check\n"
   ]
  },
  {
   "cell_type": "code",
   "execution_count": 6,
   "metadata": {},
   "outputs": [],
   "source": [
    "assert 4>3"
   ]
  },
  {
   "cell_type": "code",
   "execution_count": 12,
   "metadata": {},
   "outputs": [
    {
     "ename": "AssertionError",
     "evalue": "",
     "output_type": "error",
     "traceback": [
      "\u001b[0;31m---------------------------------------------------------------------------\u001b[0m",
      "\u001b[0;31mAssertionError\u001b[0m                            Traceback (most recent call last)",
      "\u001b[1;32m/Users/nikkopham/Desktop/AWSRestart/repository_learning/W2_Python_learning.ipynb Cell 66\u001b[0m line \u001b[0;36m5\n\u001b[1;32m      <a href='vscode-notebook-cell:/Users/nikkopham/Desktop/AWSRestart/repository_learning/W2_Python_learning.ipynb#Y122sZmlsZQ%3D%3D?line=1'>2</a>\u001b[0m     \u001b[39mreturn\u001b[39;00m \u001b[39m2\u001b[39m\u001b[39m*\u001b[39mx\n\u001b[1;32m      <a href='vscode-notebook-cell:/Users/nikkopham/Desktop/AWSRestart/repository_learning/W2_Python_learning.ipynb#Y122sZmlsZQ%3D%3D?line=3'>4</a>\u001b[0m \u001b[39massert\u001b[39;00m double_value(\u001b[39m1\u001b[39m) \u001b[39m==\u001b[39m \u001b[39m2\u001b[39m \u001b[39m#STEP 1: Write your test first\u001b[39;00m\n\u001b[0;32m----> <a href='vscode-notebook-cell:/Users/nikkopham/Desktop/AWSRestart/repository_learning/W2_Python_learning.ipynb#Y122sZmlsZQ%3D%3D?line=4'>5</a>\u001b[0m \u001b[39massert\u001b[39;00m double_value(\u001b[39m12\u001b[39m) \u001b[39m==\u001b[39m \u001b[39m23\u001b[39m\n\u001b[1;32m      <a href='vscode-notebook-cell:/Users/nikkopham/Desktop/AWSRestart/repository_learning/W2_Python_learning.ipynb#Y122sZmlsZQ%3D%3D?line=5'>6</a>\u001b[0m \u001b[39massert\u001b[39;00m double_value(\u001b[39m12\u001b[39m) \u001b[39m==\u001b[39m \u001b[39m24\u001b[39m\n",
      "\u001b[0;31mAssertionError\u001b[0m: "
     ]
    }
   ],
   "source": [
    "def double_value(x): #STEP 2: Write your function later\n",
    "    return 2*x\n",
    "\n",
    "assert double_value(1) == 2 #STEP 1: Write your test first\n",
    "assert double_value(12) == 23 #if this is wrong, it will stop to read the next lines immediately.\n",
    "assert double_value(12) == 24\n"
   ]
  },
  {
   "cell_type": "code",
   "execution_count": 15,
   "metadata": {},
   "outputs": [
    {
     "name": "stdout",
     "output_type": "stream",
     "text": [
      "We have an error\n",
      "Programme is still operating normally\n"
     ]
    }
   ],
   "source": [
    "#Try-except statement\n",
    "try:\n",
    "    print(x) #eventhough we have an error, this does not stop the programme to read the next line.\n",
    "except:\n",
    "    print(\"We have an error\")\n",
    "\n",
    "print(\"Programme is still operating normally\")"
   ]
  },
  {
   "cell_type": "code",
   "execution_count": 16,
   "metadata": {},
   "outputs": [
    {
     "ename": "NameError",
     "evalue": "name 'e' is not defined",
     "output_type": "error",
     "traceback": [
      "\u001b[0;31m---------------------------------------------------------------------------\u001b[0m",
      "\u001b[0;31mNameError\u001b[0m                                 Traceback (most recent call last)",
      "\u001b[1;32m/Users/nikkopham/Desktop/AWSRestart/repository_learning/W2_Python_learning.ipynb Cell 68\u001b[0m line \u001b[0;36m3\n\u001b[1;32m      <a href='vscode-notebook-cell:/Users/nikkopham/Desktop/AWSRestart/repository_learning/W2_Python_learning.ipynb#Y124sZmlsZQ%3D%3D?line=1'>2</a>\u001b[0m \u001b[39mtry\u001b[39;00m:\n\u001b[0;32m----> <a href='vscode-notebook-cell:/Users/nikkopham/Desktop/AWSRestart/repository_learning/W2_Python_learning.ipynb#Y124sZmlsZQ%3D%3D?line=2'>3</a>\u001b[0m     \u001b[39mprint\u001b[39m(x) \n\u001b[1;32m      <a href='vscode-notebook-cell:/Users/nikkopham/Desktop/AWSRestart/repository_learning/W2_Python_learning.ipynb#Y124sZmlsZQ%3D%3D?line=3'>4</a>\u001b[0m \u001b[39mexcept\u001b[39;00m e:\n",
      "\u001b[0;31mNameError\u001b[0m: name 'x' is not defined",
      "\nDuring handling of the above exception, another exception occurred:\n",
      "\u001b[0;31mNameError\u001b[0m                                 Traceback (most recent call last)",
      "\u001b[1;32m/Users/nikkopham/Desktop/AWSRestart/repository_learning/W2_Python_learning.ipynb Cell 68\u001b[0m line \u001b[0;36m4\n\u001b[1;32m      <a href='vscode-notebook-cell:/Users/nikkopham/Desktop/AWSRestart/repository_learning/W2_Python_learning.ipynb#Y124sZmlsZQ%3D%3D?line=1'>2</a>\u001b[0m \u001b[39mtry\u001b[39;00m:\n\u001b[1;32m      <a href='vscode-notebook-cell:/Users/nikkopham/Desktop/AWSRestart/repository_learning/W2_Python_learning.ipynb#Y124sZmlsZQ%3D%3D?line=2'>3</a>\u001b[0m     \u001b[39mprint\u001b[39m(x) \n\u001b[0;32m----> <a href='vscode-notebook-cell:/Users/nikkopham/Desktop/AWSRestart/repository_learning/W2_Python_learning.ipynb#Y124sZmlsZQ%3D%3D?line=3'>4</a>\u001b[0m \u001b[39mexcept\u001b[39;00m e:\n\u001b[1;32m      <a href='vscode-notebook-cell:/Users/nikkopham/Desktop/AWSRestart/repository_learning/W2_Python_learning.ipynb#Y124sZmlsZQ%3D%3D?line=4'>5</a>\u001b[0m     \u001b[39mprint\u001b[39m(\u001b[39m\"\u001b[39m\u001b[39mWe have an error\u001b[39m\u001b[39m\"\u001b[39m)\n\u001b[1;32m      <a href='vscode-notebook-cell:/Users/nikkopham/Desktop/AWSRestart/repository_learning/W2_Python_learning.ipynb#Y124sZmlsZQ%3D%3D?line=5'>6</a>\u001b[0m     \u001b[39mprint\u001b[39m(e)\n",
      "\u001b[0;31mNameError\u001b[0m: name 'e' is not defined"
     ]
    }
   ],
   "source": [
    "#Try-except statement\n",
    "try:\n",
    "    print(x) \n",
    "except e:\n",
    "    print(\"We have an error\")\n",
    "    print(e)\n",
    "\n",
    "print(\"Programme is still operating normally\")"
   ]
  },
  {
   "cell_type": "code",
   "execution_count": 18,
   "metadata": {},
   "outputs": [
    {
     "name": "stdout",
     "output_type": "stream",
     "text": [
      "name 'x' is not defined\n",
      "Programme is still operating normally\n"
     ]
    }
   ],
   "source": [
    "#Try-except statement\n",
    "try:\n",
    "    print(x) \n",
    "except Exception as e:\n",
    "    #print(\"We have an error\")\n",
    "    print(e)\n",
    "\n",
    "print(\"Programme is still operating normally\")"
   ]
  },
  {
   "cell_type": "code",
   "execution_count": 24,
   "metadata": {},
   "outputs": [
    {
     "name": "stdout",
     "output_type": "stream",
     "text": [
      "division by zero\n",
      "Programme is still operating normally\n"
     ]
    }
   ],
   "source": [
    "#Try-except statement\n",
    "try:\n",
    "    print(1/0)\n",
    "    print(x)\n",
    "except ZeroDivisionError as zde:\n",
    "    #print(\"I caught zero division error\")\n",
    "    print(zde)\n",
    "except Exception as e:\n",
    "    print(e)\n",
    "\n",
    "print(\"Programme is still operating normally\")\n",
    "\n"
   ]
  },
  {
   "cell_type": "code",
   "execution_count": 27,
   "metadata": {},
   "outputs": [
    {
     "name": "stdout",
     "output_type": "stream",
     "text": [
      "False\n",
      "division by zero\n",
      "Programme is still operating normally\n"
     ]
    }
   ],
   "source": [
    "#Try-except statement\n",
    "try:\n",
    "    print(4>5)\n",
    "    print(1/0)\n",
    "except ZeroDivisionError as zde:\n",
    "    #print(\"I caught zero division error\")\n",
    "    print(zde)\n",
    "except Exception as e:\n",
    "    print(e)\n",
    "\n",
    "print(\"Programme is still operating normally\")\n",
    "\n"
   ]
  },
  {
   "cell_type": "code",
   "execution_count": 28,
   "metadata": {},
   "outputs": [
    {
     "name": "stdout",
     "output_type": "stream",
     "text": [
      "division by zero\n",
      "Programme is still operating normally\n"
     ]
    }
   ],
   "source": [
    "#Try-except statement\n",
    "try:\n",
    "    print(1/0)\n",
    "    print(4>5)\n",
    "except ZeroDivisionError as zde:\n",
    "    #print(\"I caught zero division error\")\n",
    "    print(zde)\n",
    "except Exception as e:\n",
    "    print(e)\n",
    "\n",
    "print(\"Programme is still operating normally\")\n",
    "\n"
   ]
  },
  {
   "cell_type": "code",
   "execution_count": 37,
   "metadata": {},
   "outputs": [
    {
     "name": "stdout",
     "output_type": "stream",
     "text": [
      "We divided it successfuly\n",
      "3.0\n",
      "You cannot divide by zero\n",
      "unsupported operand type(s) for /: 'str' and 'str'\n"
     ]
    }
   ],
   "source": [
    "def divide_number(x,y):\n",
    "    try:\n",
    "        result = x/y\n",
    "    except ZeroDivisionError as zde:\n",
    "        print(\"You cannot divide by zero\")\n",
    "    except Exception as e:\n",
    "        print(e)\n",
    "    else:\n",
    "        print(\"We divided it successfuly\")\n",
    "        return result\n",
    "    \n",
    "print(divide_number(6,2))\n",
    "divide_number(1,0)\n",
    "divide_number(\"one\",\"two\")"
   ]
  },
  {
   "cell_type": "code",
   "execution_count": null,
   "metadata": {},
   "outputs": [],
   "source": [
    "class Car: #Rule of Python: capital name for the class: eg. Car, Animals, ...\n",
    "    pass  #This is the most simple form of the class.\n"
   ]
  },
  {
   "cell_type": "code",
   "execution_count": 5,
   "metadata": {},
   "outputs": [
    {
     "name": "stdout",
     "output_type": "stream",
     "text": [
      "<__main__.Car object at 0x1281fe9f0>\n",
      "<__main__.Car object at 0x10731e0f0>\n"
     ]
    }
   ],
   "source": [
    "class Car: \n",
    "    def __init__(self, brand): #initialisation function / self (convention in python) refers to the object body - object\n",
    "        self.brand = brand  #brand is attributes.\n",
    "\n",
    "my_car = Car(brand = \"Toyota\")\n",
    "your_car = Car(brand = \"Honda\")\n",
    "print(my_car) \n",
    "print(your_car)\n"
   ]
  },
  {
   "cell_type": "code",
   "execution_count": 16,
   "metadata": {},
   "outputs": [
    {
     "name": "stdout",
     "output_type": "stream",
     "text": [
      "{'brand': 'Toyota', 'milage_km': 46000}\n",
      "<__main__.Car object at 0x1281ff680>\n"
     ]
    }
   ],
   "source": [
    "class Car: \n",
    "    def __init__(self, brand, milage_km):\n",
    "        self.brand = brand  \n",
    "        self.milage_km = milage_km\n",
    "\n",
    "    def  drive(self, distance_km): \n",
    "        self.milage_km = self.milage_km + distance_km # x= x+1 can be written x+=1\n",
    "        \n",
    "my_car = Car(brand = \"Toyota\", milage_km = 40000)\n",
    "\n",
    "my_car.drive(distance_km = 1000)\n",
    "my_car.drive(distance_km = 2000)\n",
    "my_car.drive(distance_km = 3000)\n",
    "\n",
    "print(my_car.__dict__)\n",
    "print(my_car)"
   ]
  },
  {
   "cell_type": "code",
   "execution_count": 38,
   "metadata": {},
   "outputs": [
    {
     "name": "stdout",
     "output_type": "stream",
     "text": [
      "{'brand': 'Tesla', 'milage_km': 28000, 'range': 500}\n",
      "<__main__.ElectricCar object at 0x128402510>\n",
      "\n",
      "{'brand': 'Mercedes', 'milage_km': 25000, 'fuel_consumption': 10, 'fuel_level': 80}\n",
      "<__main__.IceCar object at 0x1283c6e70>\n",
      "\n"
     ]
    }
   ],
   "source": [
    "class Car: \n",
    "    def __init__(self, brand, milage_km):\n",
    "        self.brand = brand  \n",
    "        self.milage_km = milage_km\n",
    "\n",
    "    def  drive(self, distance_km): \n",
    "        self.milage_km = self.milage_km + distance_km # x= x+1 can be written x+=1\n",
    "\n",
    "#------------------------------------------------------       \n",
    "#Electric Car:\n",
    "class ElectricCar(Car): #subclass of Car with inherited properties and methods of Car class\n",
    "     def __init__(self, brand, milage_km, range):\n",
    "         super().__init__(brand, milage_km) #initalise the attribute of the parent's class\n",
    "         self.range = range \n",
    "\n",
    "my_ev = ElectricCar(\"Tesla\",25000,500)\n",
    "my_ev.drive(distance_km = 3000)\n",
    "\n",
    "print(my_ev.__dict__)\n",
    "print(my_ev)\n",
    "print(\"\")\n",
    "\n",
    "#------------------------------------------------------\n",
    "#Ice Car:\n",
    "class IceCar(Car):\n",
    "    def __init__(self, brand, milage_km, fuel_consumption, fuel_level):\n",
    "        Car.__init__(self, brand, milage_km) #initialise class Car bringin in the Clar clas variables, then we bring in IceCar class attributes with self.\n",
    "        self.fuel_consumption = fuel_consumption\n",
    "        self.fuel_level = fuel_level \n",
    "\n",
    "my_icecar = IceCar(\"Mercedes\", 25000, 10, 80)\n",
    "\n",
    "print(my_icecar.__dict__)\n",
    "print(my_icecar)\n",
    "print(\"\")\n",
    "\n",
    "#Remove pass instead if you want to add customisation. type \"pass\" can be allowing you not having to defind the function or class -> just let you bypass"
   ]
  }
 ],
 "metadata": {
  "kernelspec": {
   "display_name": "Python 3",
   "language": "python",
   "name": "python3"
  },
  "language_info": {
   "codemirror_mode": {
    "name": "ipython",
    "version": 3
   },
   "file_extension": ".py",
   "mimetype": "text/x-python",
   "name": "python",
   "nbconvert_exporter": "python",
   "pygments_lexer": "ipython3",
   "version": "3.12.0"
  }
 },
 "nbformat": 4,
 "nbformat_minor": 2
}
