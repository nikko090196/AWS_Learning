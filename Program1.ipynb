{
 "cells": [
  {
   "cell_type": "code",
   "execution_count": 152,
   "metadata": {},
   "outputs": [
    {
     "name": "stdout",
     "output_type": "stream",
     "text": [
      "3\n"
     ]
    }
   ],
   "source": [
    "i = 3\n",
    "print(i)"
   ]
  },
  {
   "cell_type": "code",
   "execution_count": 5,
   "metadata": {},
   "outputs": [
    {
     "data": {
      "text/plain": [
       "'Hello World'"
      ]
     },
     "execution_count": 5,
     "metadata": {},
     "output_type": "execute_result"
    }
   ],
   "source": [
    "j = \"Hello World\"\n",
    "j\n"
   ]
  },
  {
   "cell_type": "code",
   "execution_count": 1,
   "metadata": {},
   "outputs": [
    {
     "data": {
      "text/plain": [
       "'Nikko'"
      ]
     },
     "execution_count": 1,
     "metadata": {},
     "output_type": "execute_result"
    }
   ],
   "source": [
    "a = input(\"What is your name?\")\n",
    "a\n"
   ]
  },
  {
   "cell_type": "code",
   "execution_count": 2,
   "metadata": {},
   "outputs": [
    {
     "data": {
      "text/plain": [
       "3"
      ]
     },
     "execution_count": 2,
     "metadata": {},
     "output_type": "execute_result"
    }
   ],
   "source": [
    "k = 3\n",
    "k\n"
   ]
  },
  {
   "cell_type": "code",
   "execution_count": 4,
   "metadata": {},
   "outputs": [
    {
     "data": {
      "text/plain": [
       "True"
      ]
     },
     "execution_count": 4,
     "metadata": {},
     "output_type": "execute_result"
    }
   ],
   "source": [
    "my_boolean = True\n",
    "my_boolean"
   ]
  },
  {
   "cell_type": "code",
   "execution_count": 9,
   "metadata": {},
   "outputs": [
    {
     "data": {
      "text/plain": [
       "bool"
      ]
     },
     "execution_count": 9,
     "metadata": {},
     "output_type": "execute_result"
    }
   ],
   "source": [
    "type(True)"
   ]
  },
  {
   "cell_type": "code",
   "execution_count": 14,
   "metadata": {},
   "outputs": [
    {
     "data": {
      "text/plain": [
       "int"
      ]
     },
     "execution_count": 14,
     "metadata": {},
     "output_type": "execute_result"
    }
   ],
   "source": [
    "type(10)"
   ]
  },
  {
   "cell_type": "code",
   "execution_count": 18,
   "metadata": {},
   "outputs": [
    {
     "data": {
      "text/plain": [
       "str"
      ]
     },
     "execution_count": 18,
     "metadata": {},
     "output_type": "execute_result"
    }
   ],
   "source": [
    "type(\"Aha\")"
   ]
  },
  {
   "cell_type": "code",
   "execution_count": 19,
   "metadata": {},
   "outputs": [
    {
     "name": "stdout",
     "output_type": "stream",
     "text": [
      "3\n",
      "7\n"
     ]
    }
   ],
   "source": [
    "i = 3\n",
    "print(i)\n",
    "i = 7\n",
    "print(i)"
   ]
  },
  {
   "cell_type": "code",
   "execution_count": 22,
   "metadata": {},
   "outputs": [
    {
     "data": {
      "text/plain": [
       "'ALOHA'"
      ]
     },
     "execution_count": 22,
     "metadata": {},
     "output_type": "execute_result"
    }
   ],
   "source": [
    "s = \"Aloha\"\n",
    "s = s.upper()\n",
    "s"
   ]
  },
  {
   "cell_type": "code",
   "execution_count": 23,
   "metadata": {},
   "outputs": [
    {
     "data": {
      "text/plain": [
       "'aloha'"
      ]
     },
     "execution_count": 23,
     "metadata": {},
     "output_type": "execute_result"
    }
   ],
   "source": [
    "s = \"Aloha\"\n",
    "s = s.lower()\n",
    "s"
   ]
  },
  {
   "cell_type": "code",
   "execution_count": 45,
   "metadata": {},
   "outputs": [
    {
     "data": {
      "text/plain": [
       "'A nested list'"
      ]
     },
     "execution_count": 45,
     "metadata": {},
     "output_type": "execute_result"
    }
   ],
   "source": [
    "l = [\"Nikko\", \"Steve\", 27,\"Old\",[\"A nested list\",\"Haya\"]]\n",
    "l[4][0]\n",
    "#always counting the list from left to right start with 0,1,2,3,....\n",
    "#couting the list from right to left start with -1"
   ]
  },
  {
   "cell_type": "code",
   "execution_count": 46,
   "metadata": {},
   "outputs": [
    {
     "data": {
      "text/plain": [
       "5"
      ]
     },
     "execution_count": 46,
     "metadata": {},
     "output_type": "execute_result"
    }
   ],
   "source": [
    "len(l)"
   ]
  },
  {
   "cell_type": "code",
   "execution_count": 47,
   "metadata": {},
   "outputs": [
    {
     "data": {
      "text/plain": [
       "2"
      ]
     },
     "execution_count": 47,
     "metadata": {},
     "output_type": "execute_result"
    }
   ],
   "source": [
    "len(l[-1])"
   ]
  },
  {
   "cell_type": "code",
   "execution_count": 7,
   "metadata": {},
   "outputs": [
    {
     "data": {
      "text/plain": [
       "'string!'"
      ]
     },
     "execution_count": 7,
     "metadata": {},
     "output_type": "execute_result"
    }
   ],
   "source": [
    "t = \"This is a string!\"\n",
    "t[10:17]"
   ]
  },
  {
   "cell_type": "code",
   "execution_count": 156,
   "metadata": {},
   "outputs": [
    {
     "data": {
      "text/plain": [
       "'This is a string'"
      ]
     },
     "execution_count": 156,
     "metadata": {},
     "output_type": "execute_result"
    }
   ],
   "source": [
    "t = \"This is a string!\"\n",
    "t[0:-1]"
   ]
  },
  {
   "cell_type": "code",
   "execution_count": 165,
   "metadata": {},
   "outputs": [
    {
     "name": "stdout",
     "output_type": "stream",
     "text": [
      "['world']\n",
      "['world', 'this is a string']\n",
      "[19, 'world', 'this is a string']\n",
      "[19, 'amanda', 'world', 'this is a string']\n"
     ]
    }
   ],
   "source": [
    "new_list = [\"world\"]\n",
    "print (new_list)\n",
    "new_list.append(\"this is a string\")\n",
    "print(new_list)\n",
    "new_list.insert(0,19)\n",
    "print(new_list)\n",
    "new_list.insert(1,\"amanda\")\n",
    "print(new_list)"
   ]
  },
  {
   "cell_type": "code",
   "execution_count": 138,
   "metadata": {},
   "outputs": [
    {
     "name": "stdout",
     "output_type": "stream",
     "text": [
      "['world']\n",
      "['world', 'this is a string']\n",
      "[19, 'world', 'this is a string']\n",
      "[19, 'world']\n",
      "['world']\n"
     ]
    }
   ],
   "source": [
    "new_list = [\"world\"]\n",
    "print (new_list)\n",
    "new_list.append(\"this is a string\")\n",
    "print(new_list)\n",
    "new_list.insert(0,19)\n",
    "print(new_list)\n",
    "new_list.pop()\n",
    "print(new_list)\n",
    "new_list.pop(0)\n",
    "print(new_list)\n"
   ]
  },
  {
   "cell_type": "code",
   "execution_count": 142,
   "metadata": {},
   "outputs": [
    {
     "data": {
      "text/plain": [
       "[5, 4, 3, 2, 1, 0]"
      ]
     },
     "execution_count": 142,
     "metadata": {},
     "output_type": "execute_result"
    }
   ],
   "source": [
    "number_list = [0,5,4,2,1,3,]\n",
    "number_list.sort(reverse = True)\n",
    "number_list"
   ]
  },
  {
   "cell_type": "code",
   "execution_count": 174,
   "metadata": {},
   "outputs": [
    {
     "name": "stdout",
     "output_type": "stream",
     "text": [
      "[5, 4, 3, 2, 1, 0, -1]\n"
     ]
    }
   ],
   "source": [
    "number_list = [0,5,4,2,1,3, int(-1)]\n",
    "print(sorted(number_list, reverse=True))\n"
   ]
  },
  {
   "cell_type": "code",
   "execution_count": 169,
   "metadata": {},
   "outputs": [
    {
     "name": "stdout",
     "output_type": "stream",
     "text": [
      "['Badger', 'Sean', 'Zebra', 'carrot', 'potato']\n"
     ]
    }
   ],
   "source": [
    "string_list=[\"Zebra\",\"Badger\",\"Sean\",\"potato\",\"carrot\"]\n",
    "print(sorted(string_list))"
   ]
  },
  {
   "cell_type": "code",
   "execution_count": 179,
   "metadata": {},
   "outputs": [
    {
     "name": "stdout",
     "output_type": "stream",
     "text": [
      "<class 'str'>\n"
     ]
    }
   ],
   "source": [
    "print(type(\"5\"))"
   ]
  },
  {
   "cell_type": "code",
   "execution_count": 10,
   "metadata": {},
   "outputs": [
    {
     "name": "stdout",
     "output_type": "stream",
     "text": [
      "In a year you will be 28.\n"
     ]
    }
   ],
   "source": [
    "age=input(\"How old are you?\")#this will return a string\n",
    "age= int(age)+1 #so we have to cast it to a number before doing artmetic\n",
    "print(f\"In a year you will be {age}.\") #string interpolation. Anything in the curly brackets will be integer"
   ]
  },
  {
   "cell_type": "code",
   "execution_count": 8,
   "metadata": {},
   "outputs": [
    {
     "name": "stdout",
     "output_type": "stream",
     "text": [
      "In a year you will be 28 .\n"
     ]
    }
   ],
   "source": [
    "age=input(\"How old are you?\")\n",
    "age = int(age)\n",
    "print(\"In a year you will be\",age+1,\".\")\n"
   ]
  },
  {
   "cell_type": "code",
   "execution_count": 201,
   "metadata": {},
   "outputs": [
    {
     "name": "stdout",
     "output_type": "stream",
     "text": [
      "61\n"
     ]
    }
   ],
   "source": [
    "HOURLY_SALARY=50 #convention of creating a constant is have the variable name in all caps.\n",
    "\n",
    "from typing import Final\n",
    "#Importing the Final class from the \"typing\" - someone else has already coded this and we are borrowing to you.\n",
    "NEW_HOURLY_SALARY: Final [int] = 60\n",
    "NEW_HOURLY_SALARY = 61\n",
    "print(NEW_HOURLY_SALARY)"
   ]
  },
  {
   "cell_type": "code",
   "execution_count": 13,
   "metadata": {},
   "outputs": [
    {
     "ename": "TypeError",
     "evalue": "'int' object does not support item assignment",
     "output_type": "error",
     "traceback": [
      "\u001b[0;31m---------------------------------------------------------------------------\u001b[0m",
      "\u001b[0;31mTypeError\u001b[0m                                 Traceback (most recent call last)",
      "\u001b[1;32m/Users/nikkopham/Desktop/AWSRestart/repository_learning/Program1.ipynb Cell 26\u001b[0m line \u001b[0;36m2\n\u001b[1;32m      <a href='vscode-notebook-cell:/Users/nikkopham/Desktop/AWSRestart/repository_learning/Program1.ipynb#X35sZmlsZQ%3D%3D?line=0'>1</a>\u001b[0m my_tuples \u001b[39m=\u001b[39m (\u001b[39m3\u001b[39m)\n\u001b[0;32m----> <a href='vscode-notebook-cell:/Users/nikkopham/Desktop/AWSRestart/repository_learning/Program1.ipynb#X35sZmlsZQ%3D%3D?line=1'>2</a>\u001b[0m my_tuples[\u001b[39m0\u001b[39;49m] \u001b[39m=\u001b[39m \u001b[39m2\u001b[39m\n",
      "\u001b[0;31mTypeError\u001b[0m: 'int' object does not support item assignment"
     ]
    }
   ],
   "source": [
    "my_tuples = (3) #initialising factor - aware that tuples cannot be changed.\n",
    "my_tuples[0] = 2 #cannot change it later - can be seen similar as constant.\n"
   ]
  },
  {
   "cell_type": "code",
   "execution_count": 26,
   "metadata": {},
   "outputs": [
    {
     "name": "stdout",
     "output_type": "stream",
     "text": [
      "{'apples', 'cherries', 'mangoes', 'bananas', 'oranges'}\n",
      "{'apples'}\n",
      "{'bananas', 'mangoes'}\n",
      "{'cherries', 'oranges'}\n"
     ]
    },
    {
     "data": {
      "text/plain": [
       "['oranges', 'mangoes', 'cherries', 'bananas', 'apples']"
      ]
     },
     "execution_count": 26,
     "metadata": {},
     "output_type": "execute_result"
    }
   ],
   "source": [
    "my_set = {\"apples\", \"bananas\", \"mangoes\"} #set is mostly for compare/union/difference/...\n",
    "another_set = {\"apples\", \"cherries\", \"oranges\"}\n",
    "union = my_set.union(another_set) #vent diagram - choose all\n",
    "print(union)\n",
    "intersection = my_set.intersection(another_set) #vent diagram - intersection\n",
    "print(intersection)\n",
    "only_mine = my_set.difference(another_set) #exclusive of my_Set\n",
    "print(only_mine)\n",
    "only_another_set = another_set.difference(my_set) #exclusive of another_set\n",
    "print(only_another_set)\n",
    "sorted(list(union), reverse=\"False\")\n"
   ]
  },
  {
   "cell_type": "code",
   "execution_count": 46,
   "metadata": {},
   "outputs": [
    {
     "name": "stdout",
     "output_type": "stream",
     "text": [
      "Alvin\n",
      "50\n",
      "51\n",
      "50\n"
     ]
    }
   ],
   "source": [
    "my_info = {\"name\": \"Alvin\", \"age\": 50} #Dictionary list: my_info = {item 1 will have KEY (string/integer): and VALUE (could be anything or one), item 2 will have KEY (string/integer): VALUE (could be anything or none)}\n",
    "name = my_info[\"name\"] #access value\n",
    "age = my_info[\"age\"]\n",
    "print(name)\n",
    "print(age)\n",
    "my_info[\"age\"] = my_info[\"age\"] +1 #assign the value with new value\n",
    "print(my_info[\"age\"])\n",
    "print(age) #check again for deep and shallow copy"
   ]
  },
  {
   "cell_type": "code",
   "execution_count": 52,
   "metadata": {},
   "outputs": [
    {
     "name": "stdout",
     "output_type": "stream",
     "text": [
      "{'pet': 'cat'}\n",
      "{'pet': 'cat', 'vet': 'pet cat'}\n",
      "{'pet': 'cat', 'vet': 'pet cat', 'owner': ['Nikko', 'Steve'], 'my dictionary': {...}}\n"
     ]
    }
   ],
   "source": [
    "my_dict = dict() #my_dict = {} is similar with my_dict = dict() - empty dictionary\n",
    "my_dict [\"pet\"] = \"cat\" #add new item to existing dict.\n",
    "print(my_dict)\n",
    "my_dict [\"vet\"] = \"pet cat\" #add more item to existing dict.\n",
    "print(my_dict)\n",
    "my_dict [\"owner\"] = l= [\"Nikko\", \"Steve\"]\n",
    "my_dict [\"my dictionary\"] = my_dict #shallowing copy\n",
    "print(my_dict)"
   ]
  },
  {
   "cell_type": "code",
   "execution_count": 7,
   "metadata": {},
   "outputs": [
    {
     "name": "stdout",
     "output_type": "stream",
     "text": [
      "Hello, how are you?\n",
      "I am fine. Thank you.\n",
      "\n"
     ]
    }
   ],
   "source": [
    "f = open (\"Text.txt\", \"r\")\n",
    "print(f.read()) #look for the current folder for the file"
   ]
  },
  {
   "cell_type": "code",
   "execution_count": 8,
   "metadata": {},
   "outputs": [
    {
     "name": "stdout",
     "output_type": "stream",
     "text": [
      "Hello, how are you?\n",
      "\n",
      "I am fine. Thank you.\n",
      "\n"
     ]
    }
   ],
   "source": [
    "f = open (\"Text.txt\", \"r\")\n",
    "print(f.readline()) #print first line only\n",
    "print(f.readline()) #print second line only\n"
   ]
  },
  {
   "cell_type": "code",
   "execution_count": 14,
   "metadata": {},
   "outputs": [
    {
     "name": "stdout",
     "output_type": "stream",
     "text": [
      "HELLO, HOW ARE YOU?\n",
      "\n",
      "everytime\n",
      "I AM FINE. THANK YOU.\n",
      "\n",
      "everytime\n",
      "THIS IS A BEAUTIFUL DAY.\n",
      "\n",
      "everytime\n",
      "HOW DO YOU THINK?\n",
      "\n",
      "everytime\n",
      "THE WEATHER IS VERY NICE\n",
      "everytime\n",
      "finish\n"
     ]
    }
   ],
   "source": [
    "f = open (\"Text.txt\", \"r\")\n",
    "for x in f: #\"for\" loop, \"f\" is iterable\n",
    "    print(x.upper())\n",
    "    print(\"everytime\")\n",
    "print(\"finish\")\n"
   ]
  },
  {
   "cell_type": "code",
   "execution_count": 24,
   "metadata": {},
   "outputs": [
    {
     "name": "stdout",
     "output_type": "stream",
     "text": [
      "You are a dog person\n"
     ]
    }
   ],
   "source": [
    "favourite_animal = input(\"What is your favourite animal?\")\n",
    "favourite_animal = favourite_animal.lower()\n",
    "if favourite_animal == \"dog\":\n",
    "    print(\"You are a dog person\")\n",
    "elif favourite_animal == \"cat\":\n",
    "    print(\"You are a cat person\")\n",
    "else: \n",
    "    print(\"You are not a dog or cat person\")\n"
   ]
  },
  {
   "cell_type": "code",
   "execution_count": 23,
   "metadata": {},
   "outputs": [
    {
     "data": {
      "text/plain": [
       "False"
      ]
     },
     "execution_count": 23,
     "metadata": {},
     "output_type": "execute_result"
    }
   ],
   "source": [
    "4<3"
   ]
  },
  {
   "cell_type": "code",
   "execution_count": 15,
   "metadata": {},
   "outputs": [
    {
     "name": "stdout",
     "output_type": "stream",
     "text": [
      "cat dog\n",
      "dog\n"
     ]
    }
   ],
   "source": [
    "favourite_animal = \"\" #empty value\n",
    "while favourite_animal != \"cat\" and favourite_animal != \"dog\":\n",
    "    favourite_animal = input(\"Are you a dog person or a cat person?\")\n",
    "    print(favourite_animal)"
   ]
  },
  {
   "cell_type": "code",
   "execution_count": null,
   "metadata": {},
   "outputs": [],
   "source": []
  }
 ],
 "metadata": {
  "kernelspec": {
   "display_name": "Python 3",
   "language": "python",
   "name": "python3"
  },
  "language_info": {
   "codemirror_mode": {
    "name": "ipython",
    "version": 3
   },
   "file_extension": ".py",
   "mimetype": "text/x-python",
   "name": "python",
   "nbconvert_exporter": "python",
   "pygments_lexer": "ipython3",
   "version": "3.12.0"
  }
 },
 "nbformat": 4,
 "nbformat_minor": 2
}
