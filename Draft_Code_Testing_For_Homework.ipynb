{
 "cells": [
  {
   "cell_type": "code",
   "execution_count": 7,
   "metadata": {},
   "outputs": [
    {
     "name": "stdout",
     "output_type": "stream",
     "text": [
      "  |   |   \n",
      "\n",
      "- - - - - \n",
      "\n",
      "  |   |   \n",
      "\n",
      "- - - - - \n",
      "\n",
      "  |   |   \n",
      "\n",
      "4\n",
      "Test: 2\n",
      "Test: 3\n",
      "Test: 4\n",
      "Test: 5\n"
     ]
    }
   ],
   "source": [
    "n = 1\n",
    "d = 3*n + 2\n",
    "for x in range(d):\n",
    "    for y in range(d):\n",
    "        if (x==n or x == 2*n+1) :\n",
    "            print(\"-\", end=\" \")\n",
    "        elif (y==n or y == 2*n+1):\n",
    "            print(\"|\", end=\" \")\n",
    "        else:\n",
    "            print(\" \", end=\" \")\n",
    "    print(\"\\n\")\n",
    "print(x)\n",
    "for x in range(2, 6):\n",
    "    print(f'Test: {x}')"
   ]
  },
  {
   "cell_type": "code",
   "execution_count": 15,
   "metadata": {},
   "outputs": [
    {
     "name": "stdout",
     "output_type": "stream",
     "text": [
      "4\n"
     ]
    },
    {
     "data": {
      "text/plain": [
       "False"
      ]
     },
     "execution_count": 15,
     "metadata": {},
     "output_type": "execute_result"
    }
   ],
   "source": [
    "age = input(\"Choose a number\")\n",
    "print(age_later) == int(age) + 1"
   ]
  },
  {
   "cell_type": "code",
   "execution_count": 23,
   "metadata": {},
   "outputs": [
    {
     "ename": "ValueError",
     "evalue": "invalid literal for int() with base 10: 'd'",
     "output_type": "error",
     "traceback": [
      "\u001b[0;31m---------------------------------------------------------------------------\u001b[0m",
      "\u001b[0;31mValueError\u001b[0m                                Traceback (most recent call last)",
      "\u001b[1;32m/Users/nikkopham/Desktop/AWSRestart/repository_learning/Test.ipynb Cell 3\u001b[0m line \u001b[0;36m1\n\u001b[0;32m----> <a href='vscode-notebook-cell:/Users/nikkopham/Desktop/AWSRestart/repository_learning/Test.ipynb#W2sZmlsZQ%3D%3D?line=0'>1</a>\u001b[0m age \u001b[39m=\u001b[39m \u001b[39mint\u001b[39;49m(\u001b[39minput\u001b[39;49m(\u001b[39m\"\u001b[39;49m\u001b[39mHow old are you?\u001b[39;49m\u001b[39m\"\u001b[39;49m))\n\u001b[1;32m      <a href='vscode-notebook-cell:/Users/nikkopham/Desktop/AWSRestart/repository_learning/Test.ipynb#W2sZmlsZQ%3D%3D?line=1'>2</a>\u001b[0m \u001b[39mprint\u001b[39m (age)\n",
      "\u001b[0;31mValueError\u001b[0m: invalid literal for int() with base 10: 'd'"
     ]
    }
   ],
   "source": [
    "age = int(input(\"How old are you?\"))\n",
    "print (age)"
   ]
  },
  {
   "cell_type": "code",
   "execution_count": null,
   "metadata": {},
   "outputs": [],
   "source": [
    "try:\n",
    "    number = int(input(\"Enter an integer: \"))\n",
    "    print(n = number)\n",
    "except ValueError:\n",
    "    print(\"Invalid input. Please enter an integer again\")"
   ]
  },
  {
   "cell_type": "code",
   "execution_count": 31,
   "metadata": {},
   "outputs": [
    {
     "name": "stdout",
     "output_type": "stream",
     "text": [
      "n = 3\n"
     ]
    }
   ],
   "source": [
    "while True:\n",
    "    number = input(\"Enter an integer which is larger than 0: \")\n",
    "    try:\n",
    "        number = int(number)\n",
    "        if number > 0:\n",
    "            n = number\n",
    "            print(\"n =\", n)\n",
    "            break \n",
    "        else:\n",
    "            print(\"The number needs to be larger than 0\")\n",
    "    except ValueError:\n",
    "        print(\"Your answer is not a valid integer\")\n"
   ]
  },
  {
   "cell_type": "code",
   "execution_count": 11,
   "metadata": {},
   "outputs": [
    {
     "ename": "ValueError",
     "evalue": "invalid literal for int() with base 10: 'd'",
     "output_type": "error",
     "traceback": [
      "\u001b[0;31m---------------------------------------------------------------------------\u001b[0m",
      "\u001b[0;31mValueError\u001b[0m                                Traceback (most recent call last)",
      "\u001b[1;32m/Users/nikkopham/Desktop/AWSRestart/repository_learning/Code_Testing.ipynb Cell 6\u001b[0m line \u001b[0;36m3\n\u001b[1;32m      <a href='vscode-notebook-cell:/Users/nikkopham/Desktop/AWSRestart/repository_learning/Code_Testing.ipynb#W5sZmlsZQ%3D%3D?line=0'>1</a>\u001b[0m \u001b[39mwhile\u001b[39;00m \u001b[39mTrue\u001b[39;00m:\n\u001b[1;32m      <a href='vscode-notebook-cell:/Users/nikkopham/Desktop/AWSRestart/repository_learning/Code_Testing.ipynb#W5sZmlsZQ%3D%3D?line=1'>2</a>\u001b[0m     number \u001b[39m=\u001b[39m \u001b[39minput\u001b[39m(\u001b[39m\"\u001b[39m\u001b[39mEnter an integer which is larger than 0: \u001b[39m\u001b[39m\"\u001b[39m)\n\u001b[0;32m----> <a href='vscode-notebook-cell:/Users/nikkopham/Desktop/AWSRestart/repository_learning/Code_Testing.ipynb#W5sZmlsZQ%3D%3D?line=2'>3</a>\u001b[0m     number \u001b[39m=\u001b[39m \u001b[39mint\u001b[39;49m(number)\n\u001b[1;32m      <a href='vscode-notebook-cell:/Users/nikkopham/Desktop/AWSRestart/repository_learning/Code_Testing.ipynb#W5sZmlsZQ%3D%3D?line=3'>4</a>\u001b[0m     \u001b[39mif\u001b[39;00m number \u001b[39m>\u001b[39m \u001b[39m0\u001b[39m :\n\u001b[1;32m      <a href='vscode-notebook-cell:/Users/nikkopham/Desktop/AWSRestart/repository_learning/Code_Testing.ipynb#W5sZmlsZQ%3D%3D?line=4'>5</a>\u001b[0m         n\u001b[39m=\u001b[39mnumber\n",
      "\u001b[0;31mValueError\u001b[0m: invalid literal for int() with base 10: 'd'"
     ]
    }
   ],
   "source": [
    "while True:\n",
    "    number = input(\"Enter an integer which is larger than 0: \")\n",
    "    number = int(number)\n",
    "    if number > 0 :\n",
    "        n=number\n",
    "        print(\"n =\", n)\n",
    "        break\n",
    "    if number == 0 :\n",
    "        print(\"The number needs to be larger than 0\")\n",
    "    else:\n",
    "        print(\"Your answer is not a valid integer\")\n"
   ]
  },
  {
   "cell_type": "code",
   "execution_count": 1,
   "metadata": {},
   "outputs": [
    {
     "ename": "NameError",
     "evalue": "name 'alphabet' is not defined",
     "output_type": "error",
     "traceback": [
      "\u001b[0;31m---------------------------------------------------------------------------\u001b[0m",
      "\u001b[0;31mNameError\u001b[0m                                 Traceback (most recent call last)",
      "\u001b[1;32m/Users/nikkopham/Desktop/AWSRestart/repository_learning/Draft_Code_Testing_For_Homework.ipynb Cell 7\u001b[0m line \u001b[0;36m1\n\u001b[0;32m----> <a href='vscode-notebook-cell:/Users/nikkopham/Desktop/AWSRestart/repository_learning/Draft_Code_Testing_For_Homework.ipynb#W6sZmlsZQ%3D%3D?line=0'>1</a>\u001b[0m \u001b[39mfor\u001b[39;00m x \u001b[39min\u001b[39;00m \u001b[39mrange\u001b[39m(alphabet):\n\u001b[1;32m      <a href='vscode-notebook-cell:/Users/nikkopham/Desktop/AWSRestart/repository_learning/Draft_Code_Testing_For_Homework.ipynb#W6sZmlsZQ%3D%3D?line=1'>2</a>\u001b[0m     \u001b[39mprint\u001b[39m (x)\n",
      "\u001b[0;31mNameError\u001b[0m: name 'alphabet' is not defined"
     ]
    }
   ],
   "source": [
    "for x in range(alphabet):\n",
    "    print (x)"
   ]
  },
  {
   "cell_type": "code",
   "execution_count": 6,
   "metadata": {},
   "outputs": [
    {
     "ename": "NameError",
     "evalue": "name 'key' is not defined",
     "output_type": "error",
     "traceback": [
      "\u001b[0;31m---------------------------------------------------------------------------\u001b[0m",
      "\u001b[0;31mNameError\u001b[0m                                 Traceback (most recent call last)",
      "\u001b[1;32m/Users/nikkopham/Desktop/AWSRestart/repository_learning/Draft_Code_Testing_For_Homework.ipynb Cell 8\u001b[0m line \u001b[0;36m1\n\u001b[1;32m      <a href='vscode-notebook-cell:/Users/nikkopham/Desktop/AWSRestart/repository_learning/Draft_Code_Testing_For_Homework.ipynb#X10sZmlsZQ%3D%3D?line=8'>9</a>\u001b[0m         \u001b[39mif\u001b[39;00m val \u001b[39m==\u001b[39m value:\n\u001b[1;32m     <a href='vscode-notebook-cell:/Users/nikkopham/Desktop/AWSRestart/repository_learning/Draft_Code_Testing_For_Homework.ipynb#X10sZmlsZQ%3D%3D?line=9'>10</a>\u001b[0m             \u001b[39mreturn\u001b[39;00m key\n\u001b[0;32m---> <a href='vscode-notebook-cell:/Users/nikkopham/Desktop/AWSRestart/repository_learning/Draft_Code_Testing_For_Homework.ipynb#X10sZmlsZQ%3D%3D?line=11'>12</a>\u001b[0m \u001b[39mprint\u001b[39m(key)\n",
      "\u001b[0;31mNameError\u001b[0m: name 'key' is not defined"
     ]
    }
   ],
   "source": [
    "k = 1\n",
    "\n",
    "alphabet_list = {\"a\":0, \"b\":1, \"c\":2, \"d\":3, \"e\":4, \"f\":5, \"g\":6, \"h\":7, \"i\":8, \"j\":9, \"k\":10, \"l\":11, \"m\":12, \"n\":13, \"o\":14, \"p\":15, \"q\":16, \"r\":17, \"s\":18, \"t\":19, \"u\":20, \"v\":21, \"w\":22, \"x\":23, \"y\":24, \"z\":25}\n",
    "encryption_list = {\"a\":0+k, \"b\":1+k, \"c\":2+k, \"d\":3+k, \"e\":4+k, \"f\":5+k, \"g\":6+k, \"h\":7+k, \"i\":8+k, \"j\":9+k, \"k\":10+k, \"l\":11+k, \"m\":12+k, \"n\":13+k, \"o\":14+k, \"p\":15+k, \"q\":16+k, \"r\":17+k, \"s\":18+k, \"t\":19+k, \"u\":20+k, \"v\":21+k, \"w\":22+k, \"x\":23+k, \"y\":24+k, \"z\":25+k}\n",
    "\n",
    "def alphabet_list(key, value):\n",
    "    lphabet_list = {\"a\":0, \"b\":1, \"c\":2, \"d\":3, \"e\":4, \"f\":5, \"g\":6, \"h\":7, \"i\":8, \"j\":9, \"k\":10, \"l\":11, \"m\":12, \"n\":13, \"o\":14, \"p\":15, \"q\":16, \"r\":17, \"s\":18, \"t\":19, \"u\":20, \"v\":21, \"w\":22, \"x\":23, \"y\":24, \"z\":25}\n",
    "\n",
    "def encryption(val):\n",
    "    for key,value in alphabet_list:\n",
    "        if val == value:\n",
    "            return key\n",
    "\n",
    "print(key)"
   ]
  },
  {
   "cell_type": "code",
   "execution_count": 8,
   "metadata": {},
   "outputs": [
    {
     "ename": "NameError",
     "evalue": "name 'key' is not defined",
     "output_type": "error",
     "traceback": [
      "\u001b[0;31m---------------------------------------------------------------------------\u001b[0m",
      "\u001b[0;31mNameError\u001b[0m                                 Traceback (most recent call last)",
      "\u001b[1;32m/Users/nikkopham/Desktop/AWSRestart/repository_learning/Draft_Code_Testing_For_Homework.ipynb Cell 9\u001b[0m line \u001b[0;36m9\n\u001b[1;32m      <a href='vscode-notebook-cell:/Users/nikkopham/Desktop/AWSRestart/repository_learning/Draft_Code_Testing_For_Homework.ipynb#X11sZmlsZQ%3D%3D?line=5'>6</a>\u001b[0m         \u001b[39mif\u001b[39;00m val \u001b[39m==\u001b[39m value:\n\u001b[1;32m      <a href='vscode-notebook-cell:/Users/nikkopham/Desktop/AWSRestart/repository_learning/Draft_Code_Testing_For_Homework.ipynb#X11sZmlsZQ%3D%3D?line=6'>7</a>\u001b[0m             \u001b[39mreturn\u001b[39;00m key\n\u001b[0;32m----> <a href='vscode-notebook-cell:/Users/nikkopham/Desktop/AWSRestart/repository_learning/Draft_Code_Testing_For_Homework.ipynb#X11sZmlsZQ%3D%3D?line=8'>9</a>\u001b[0m \u001b[39mprint\u001b[39m(key)\n",
      "\u001b[0;31mNameError\u001b[0m: name 'key' is not defined"
     ]
    }
   ],
   "source": [
    "def alphabet_list(key, value):\n",
    "    alphabet_list = {\"a\":0, \"b\":1, \"c\":2, \"d\":3, \"e\":4, \"f\":5, \"g\":6, \"h\":7, \"i\":8, \"j\":9, \"k\":10, \"l\":11, \"m\":12, \"n\":13, \"o\":14, \"p\":15, \"q\":16, \"r\":17, \"s\":18, \"t\":19, \"u\":20, \"v\":21, \"w\":22, \"x\":23, \"y\":24, \"z\":25}\n",
    "\n",
    "def encryption(val):\n",
    "    for key,value in alphabet_list:\n",
    "        if val == value:\n",
    "            return key\n",
    "\n",
    "print(key)"
   ]
  },
  {
   "cell_type": "code",
   "execution_count": 9,
   "metadata": {},
   "outputs": [
    {
     "ename": "AttributeError",
     "evalue": "'list' object has no attribute 'upper'",
     "output_type": "error",
     "traceback": [
      "\u001b[0;31m---------------------------------------------------------------------------\u001b[0m",
      "\u001b[0;31mAttributeError\u001b[0m                            Traceback (most recent call last)",
      "\u001b[1;32m/Users/nikkopham/Desktop/AWSRestart/repository_learning/Draft_Code_Testing_For_Homework.ipynb Cell 10\u001b[0m line \u001b[0;36m2\n\u001b[1;32m      <a href='vscode-notebook-cell:/Users/nikkopham/Desktop/AWSRestart/repository_learning/Draft_Code_Testing_For_Homework.ipynb#X12sZmlsZQ%3D%3D?line=0'>1</a>\u001b[0m alphabet \u001b[39m=\u001b[39m [\u001b[39m\"\u001b[39m\u001b[39ma\u001b[39m\u001b[39m\"\u001b[39m, \u001b[39m\"\u001b[39m\u001b[39mb\u001b[39m\u001b[39m\"\u001b[39m, \u001b[39m\"\u001b[39m\u001b[39mc\u001b[39m\u001b[39m\"\u001b[39m, \u001b[39m\"\u001b[39m\u001b[39md\u001b[39m\u001b[39m\"\u001b[39m, \u001b[39m\"\u001b[39m\u001b[39me\u001b[39m\u001b[39m\"\u001b[39m, \u001b[39m\"\u001b[39m\u001b[39mf\u001b[39m\u001b[39m\"\u001b[39m, \u001b[39m\"\u001b[39m\u001b[39mg\u001b[39m\u001b[39m\"\u001b[39m, \u001b[39m\"\u001b[39m\u001b[39mh\u001b[39m\u001b[39m\"\u001b[39m, \u001b[39m\"\u001b[39m\u001b[39mi\u001b[39m\u001b[39m\"\u001b[39m, \u001b[39m\"\u001b[39m\u001b[39mj\u001b[39m\u001b[39m\"\u001b[39m, \u001b[39m\"\u001b[39m\u001b[39mk\u001b[39m\u001b[39m\"\u001b[39m, \u001b[39m\"\u001b[39m\u001b[39ml\u001b[39m\u001b[39m\"\u001b[39m, \u001b[39m\"\u001b[39m\u001b[39mm\u001b[39m\u001b[39m\"\u001b[39m, \u001b[39m\"\u001b[39m\u001b[39mn\u001b[39m\u001b[39m\"\u001b[39m, \u001b[39m\"\u001b[39m\u001b[39mo\u001b[39m\u001b[39m\"\u001b[39m, \u001b[39m\"\u001b[39m\u001b[39mp\u001b[39m\u001b[39m\"\u001b[39m, \u001b[39m\"\u001b[39m\u001b[39mq\u001b[39m\u001b[39m\"\u001b[39m, \u001b[39m\"\u001b[39m\u001b[39mr\u001b[39m\u001b[39m\"\u001b[39m, \u001b[39m\"\u001b[39m\u001b[39ms\u001b[39m\u001b[39m\"\u001b[39m, \u001b[39m\"\u001b[39m\u001b[39mt\u001b[39m\u001b[39m\"\u001b[39m, \u001b[39m\"\u001b[39m\u001b[39mu\u001b[39m\u001b[39m\"\u001b[39m, \u001b[39m\"\u001b[39m\u001b[39mv\u001b[39m\u001b[39m\"\u001b[39m, \u001b[39m\"\u001b[39m\u001b[39mw\u001b[39m\u001b[39m\"\u001b[39m, \u001b[39m\"\u001b[39m\u001b[39mx\u001b[39m\u001b[39m\"\u001b[39m, \u001b[39m\"\u001b[39m\u001b[39my\u001b[39m\u001b[39m\"\u001b[39m, \u001b[39m\"\u001b[39m\u001b[39mz\u001b[39m\u001b[39m\"\u001b[39m]\n\u001b[0;32m----> <a href='vscode-notebook-cell:/Users/nikkopham/Desktop/AWSRestart/repository_learning/Draft_Code_Testing_For_Homework.ipynb#X12sZmlsZQ%3D%3D?line=1'>2</a>\u001b[0m alphabet_capital \u001b[39m=\u001b[39m alphabet\u001b[39m.\u001b[39;49mupper()\n\u001b[1;32m      <a href='vscode-notebook-cell:/Users/nikkopham/Desktop/AWSRestart/repository_learning/Draft_Code_Testing_For_Homework.ipynb#X12sZmlsZQ%3D%3D?line=2'>3</a>\u001b[0m \u001b[39mprint\u001b[39m(alphabet_capital)\n",
      "\u001b[0;31mAttributeError\u001b[0m: 'list' object has no attribute 'upper'"
     ]
    }
   ],
   "source": [
    "alphabet = [\"a\", \"b\", \"c\", \"d\", \"e\", \"f\", \"g\", \"h\", \"i\", \"j\", \"k\", \"l\", \"m\", \"n\", \"o\", \"p\", \"q\", \"r\", \"s\", \"t\", \"u\", \"v\", \"w\", \"x\", \"y\", \"z\"]\n",
    "alphabet_capital = alphabet.upper()\n",
    "print(alphabet_capital)"
   ]
  },
  {
   "cell_type": "code",
   "execution_count": null,
   "metadata": {},
   "outputs": [],
   "source": [
    "##Step: Print Output to .txt file\n",
    "import sys\n",
    "sys.stdout = open('23.11.09_homework_Caesar_Cipher_Official_Output.txt','wt')"
   ]
  },
  {
   "cell_type": "code",
   "execution_count": 2,
   "metadata": {},
   "outputs": [
    {
     "name": "stdout",
     "output_type": "stream",
     "text": [
      "False\n"
     ]
    }
   ],
   "source": [
    "text1 = \"Pham DOan Quynh Nhu\"\n",
    "result1 = text1.istitle()\n",
    "print(result1)\n"
   ]
  },
  {
   "cell_type": "code",
   "execution_count": 6,
   "metadata": {},
   "outputs": [
    {
     "ename": "AssertionError",
     "evalue": "The name is not valid",
     "output_type": "error",
     "traceback": [
      "\u001b[0;31m---------------------------------------------------------------------------\u001b[0m",
      "\u001b[0;31mAssertionError\u001b[0m                            Traceback (most recent call last)",
      "\u001b[1;32m/Users/nikkopham/Desktop/AWSRestart/AWS_Learning/Draft_Code_Testing_For_Homework.ipynb Cell 13\u001b[0m line \u001b[0;36m2\n\u001b[1;32m      <a href='vscode-notebook-cell:/Users/nikkopham/Desktop/AWSRestart/AWS_Learning/Draft_Code_Testing_For_Homework.ipynb#X15sZmlsZQ%3D%3D?line=0'>1</a>\u001b[0m name\u001b[39m=\u001b[39m\u001b[39m\"\u001b[39m\u001b[39mPham Doan Quynh NhU\u001b[39m\u001b[39m\"\u001b[39m\n\u001b[0;32m----> <a href='vscode-notebook-cell:/Users/nikkopham/Desktop/AWSRestart/AWS_Learning/Draft_Code_Testing_For_Homework.ipynb#X15sZmlsZQ%3D%3D?line=1'>2</a>\u001b[0m \u001b[39massert\u001b[39;00m name\u001b[39m.\u001b[39mistitle(), \u001b[39m\"\u001b[39m\u001b[39mThe name is not valid\u001b[39m\u001b[39m\"\u001b[39m\n",
      "\u001b[0;31mAssertionError\u001b[0m: The name is not valid"
     ]
    }
   ],
   "source": [
    "name=\"Pham Doan Quynh NhU\"\n",
    "assert name.istitle(), \"The name is not valid\"\n",
    "\n"
   ]
  }
 ],
 "metadata": {
  "kernelspec": {
   "display_name": "Python 3",
   "language": "python",
   "name": "python3"
  },
  "language_info": {
   "codemirror_mode": {
    "name": "ipython",
    "version": 3
   },
   "file_extension": ".py",
   "mimetype": "text/x-python",
   "name": "python",
   "nbconvert_exporter": "python",
   "pygments_lexer": "ipython3",
   "version": "3.12.0"
  }
 },
 "nbformat": 4,
 "nbformat_minor": 2
}
